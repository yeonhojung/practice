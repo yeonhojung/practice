{
 "cells": [
  {
   "cell_type": "markdown",
   "metadata": {
    "id": "kc8uxBTuKvzM"
   },
   "source": [
    "# 데이터프레임의 정의와 구성요소 "
   ]
  },
  {
   "cell_type": "code",
   "execution_count": 1,
   "metadata": {
    "executionInfo": {
     "elapsed": 260,
     "status": "ok",
     "timestamp": 1631448415487,
     "user": {
      "displayName": "Yonghee Lee",
      "photoUrl": "https://lh3.googleusercontent.com/a-/AOh14GhAdQHSNVWnNOcFlUVngZa1OBgaG7xdUrznR__gdg=s64",
      "userId": "10559206703728046520"
     },
     "user_tz": -540
    },
    "id": "dqsMzMZwLfJS"
   },
   "outputs": [],
   "source": [
    "import pandas as pd"
   ]
  },
  {
   "cell_type": "markdown",
   "metadata": {
    "id": "3lVYjvy0fX64"
   },
   "source": [
    "## 정의"
   ]
  },
  {
   "cell_type": "markdown",
   "metadata": {
    "id": "TclbAxdgK7z3"
   },
   "source": [
    "이제 데이터프레임을 정의해 보자. 다음은 5명의 이름, 성별, 나이, 키가 저장된 데이터프레임을 직접 만드는 코드이다.  "
   ]
  },
  {
   "cell_type": "code",
   "execution_count": 2,
   "metadata": {
    "id": "9_bBF_a5Kqu7"
   },
   "outputs": [],
   "source": [
    "df = pd.DataFrame(\n",
    "    { 'name' : ['이철수', '김영희', '홍길동', 'John Smith', 'Mary Doe'],\n",
    "      'sex'  : ['M', 'F', 'M', 'M', 'F'],\n",
    "      'age'  : [ 23, 25, 21, 33, 45],\n",
    "      'height' : [153.5, 175.3, 163.4, 180.0, 165.7]\n",
    "    } )"
   ]
  },
  {
   "cell_type": "code",
   "execution_count": 3,
   "metadata": {
    "colab": {
     "base_uri": "https://localhost:8080/",
     "height": 203
    },
    "executionInfo": {
     "elapsed": 264,
     "status": "ok",
     "timestamp": 1631448436861,
     "user": {
      "displayName": "Yonghee Lee",
      "photoUrl": "https://lh3.googleusercontent.com/a-/AOh14GhAdQHSNVWnNOcFlUVngZa1OBgaG7xdUrznR__gdg=s64",
      "userId": "10559206703728046520"
     },
     "user_tz": -540
    },
    "id": "3jPaBoqNNTQw",
    "outputId": "17ac9db8-3e6e-47d5-cec3-093e9edc3558"
   },
   "outputs": [
    {
     "data": {
      "text/html": [
       "<div>\n",
       "<style scoped>\n",
       "    .dataframe tbody tr th:only-of-type {\n",
       "        vertical-align: middle;\n",
       "    }\n",
       "\n",
       "    .dataframe tbody tr th {\n",
       "        vertical-align: top;\n",
       "    }\n",
       "\n",
       "    .dataframe thead th {\n",
       "        text-align: right;\n",
       "    }\n",
       "</style>\n",
       "<table border=\"1\" class=\"dataframe\">\n",
       "  <thead>\n",
       "    <tr style=\"text-align: right;\">\n",
       "      <th></th>\n",
       "      <th>name</th>\n",
       "      <th>sex</th>\n",
       "      <th>age</th>\n",
       "      <th>height</th>\n",
       "    </tr>\n",
       "  </thead>\n",
       "  <tbody>\n",
       "    <tr>\n",
       "      <th>0</th>\n",
       "      <td>이철수</td>\n",
       "      <td>M</td>\n",
       "      <td>23</td>\n",
       "      <td>153.5</td>\n",
       "    </tr>\n",
       "    <tr>\n",
       "      <th>1</th>\n",
       "      <td>김영희</td>\n",
       "      <td>F</td>\n",
       "      <td>25</td>\n",
       "      <td>175.3</td>\n",
       "    </tr>\n",
       "    <tr>\n",
       "      <th>2</th>\n",
       "      <td>홍길동</td>\n",
       "      <td>M</td>\n",
       "      <td>21</td>\n",
       "      <td>163.4</td>\n",
       "    </tr>\n",
       "    <tr>\n",
       "      <th>3</th>\n",
       "      <td>John Smith</td>\n",
       "      <td>M</td>\n",
       "      <td>33</td>\n",
       "      <td>180.0</td>\n",
       "    </tr>\n",
       "    <tr>\n",
       "      <th>4</th>\n",
       "      <td>Mary Doe</td>\n",
       "      <td>F</td>\n",
       "      <td>45</td>\n",
       "      <td>165.7</td>\n",
       "    </tr>\n",
       "  </tbody>\n",
       "</table>\n",
       "</div>"
      ],
      "text/plain": [
       "         name sex  age  height\n",
       "0         이철수   M   23   153.5\n",
       "1         김영희   F   25   175.3\n",
       "2         홍길동   M   21   163.4\n",
       "3  John Smith   M   33   180.0\n",
       "4    Mary Doe   F   45   165.7"
      ]
     },
     "execution_count": 3,
     "metadata": {},
     "output_type": "execute_result"
    }
   ],
   "source": [
    "df"
   ]
  },
  {
   "cell_type": "code",
   "execution_count": 4,
   "metadata": {
    "colab": {
     "base_uri": "https://localhost:8080/"
    },
    "executionInfo": {
     "elapsed": 278,
     "status": "ok",
     "timestamp": 1631448439566,
     "user": {
      "displayName": "Yonghee Lee",
      "photoUrl": "https://lh3.googleusercontent.com/a-/AOh14GhAdQHSNVWnNOcFlUVngZa1OBgaG7xdUrznR__gdg=s64",
      "userId": "10559206703728046520"
     },
     "user_tz": -540
    },
    "id": "t7TMVvhOgbLs",
    "outputId": "173d464f-3ed2-48f9-ccb3-5188e8959143"
   },
   "outputs": [
    {
     "data": {
      "text/plain": [
       "pandas.core.frame.DataFrame"
      ]
     },
     "execution_count": 4,
     "metadata": {},
     "output_type": "execute_result"
    }
   ],
   "source": [
    "type(df)"
   ]
  },
  {
   "cell_type": "markdown",
   "metadata": {
    "id": "Pb5M9GywRA_5"
   },
   "source": [
    "> 각 행을 나타내는 인덱스는 0으로 시작하는 정수 0,1,2,3,4 로 나타나고 각 열을 나타내는 인덱스(열이름)는\n",
    "문자열로 나타나며 `name`,\t`sex`,\t`age`,\t`height` 로 나타난다."
   ]
  },
  {
   "cell_type": "markdown",
   "metadata": {
    "id": "Jec6EJMNNdBh"
   },
   "source": [
    "위의 코드는 5명의 학생의 이름(name), 성별(sex), 나이(age), 키(`height`)로 구성된 5개의 행과 4개 열을 가진 데이터프레임 `df` 이다. `pd.DataFrame()` 는 `pd` 로 지정된 `pandas` 라이브러리의 함수 `DataFrame()` 을 사용하겠다는 의미이다. 라이브러리의 함수 `DataFrame`의 괄호 안에 인자는 괄호 `{` 로 시작하여 괄호 `}` 로 끝나는 표현식이 들어 간다.\n",
    "\n",
    "괄호 `{}` 안에 있는 표현식은 나중에 배울 사전(dictionary) 형식의 데이터를 만들어 준다.\n",
    "\n",
    "- 괄호 `{}` 안에 있는 첫 번째 요소는 이름을 나타내는 열을 만드는 표현식이며 열이름은 `name` 이고 원소들은 문자열(`str`)로 구성된 리스트이다.\n",
    "\n",
    "```\n",
    "'name' : ['이철수', '김영희', '홍길동', 'John Smith', 'Mary Doe']\n",
    "```\n",
    "\n",
    "-  괄호 `{}` 안에 있는 두 번째 요소는 성별을 나타내는 열을 만드는 표현식이며 열이름은 `sex` 이고 원소들은 문자열 `M` 과 `F` 로 구성된 리스트이다.\n",
    "\n",
    "```\n",
    "'sex'  : ['M', 'F', 'M', 'M', 'F']\n",
    "```\n",
    "\n",
    "- 괄호 `{}` 안에 있는 세 번째 요소는 나이을 나타내는 열을 만드는 표현식이며 열이름은 `age` 이고 원소들은 정수(`int`)로 구성된 리스트이다.\n",
    "\n",
    "```\n",
    "'age'  : [ 23, 25, 21, 33, 45]\n",
    "```\n",
    "\n",
    "- 괄호 `{}` 안에 있는 네 번째 요소는 키를 나타내는 열을 만드는 표현식이며 열이름은 `height` 이고 원소들은 부동소수점(`float`)로 구성된 리스트이다.\n",
    "\n",
    "```\n",
    "'height' : [153.5, 175.3, 163.4, 180.0, 165.7]\n",
    "```\n",
    "\n",
    "각 열을 나타내는 4개의 요소는 쉼표 `,` 로 분리한다.\n"
   ]
  },
  {
   "cell_type": "markdown",
   "metadata": {
    "id": "DAi24beGfdJv"
   },
   "source": [
    "## 열 선택"
   ]
  },
  {
   "cell_type": "markdown",
   "metadata": {
    "id": "IcrDvLZoO8pZ"
   },
   "source": [
    "데이터프레임에서 다음과 같이 괄호 `[]` 안에 열이름 또는 열이름으로 구성된 리스트를 넣어서 일부의 열을 선택할 수 있다. 이 경우 열이름은 문자열이어야 한다.\n",
    "\n",
    "데이터프레임에서 열 또는 행의 일부를 선택하여 추출하는 작업을 **슬라이싱(slicing)** 이라고 한다.\n",
    "\n"
   ]
  },
  {
   "cell_type": "code",
   "execution_count": 5,
   "metadata": {
    "colab": {
     "base_uri": "https://localhost:8080/"
    },
    "executionInfo": {
     "elapsed": 256,
     "status": "ok",
     "timestamp": 1631448585566,
     "user": {
      "displayName": "Yonghee Lee",
      "photoUrl": "https://lh3.googleusercontent.com/a-/AOh14GhAdQHSNVWnNOcFlUVngZa1OBgaG7xdUrznR__gdg=s64",
      "userId": "10559206703728046520"
     },
     "user_tz": -540
    },
    "id": "-pK-jjn3NUEr",
    "outputId": "57b38c08-5e3f-4f7a-bb26-9d29006cd47e"
   },
   "outputs": [
    {
     "data": {
      "text/plain": [
       "0           이철수\n",
       "1           김영희\n",
       "2           홍길동\n",
       "3    John Smith\n",
       "4      Mary Doe\n",
       "Name: name, dtype: object"
      ]
     },
     "execution_count": 5,
     "metadata": {},
     "output_type": "execute_result"
    }
   ],
   "source": [
    "df['name']"
   ]
  },
  {
   "cell_type": "code",
   "execution_count": 6,
   "metadata": {
    "colab": {
     "base_uri": "https://localhost:8080/",
     "height": 203
    },
    "executionInfo": {
     "elapsed": 258,
     "status": "ok",
     "timestamp": 1631448586963,
     "user": {
      "displayName": "Yonghee Lee",
      "photoUrl": "https://lh3.googleusercontent.com/a-/AOh14GhAdQHSNVWnNOcFlUVngZa1OBgaG7xdUrznR__gdg=s64",
      "userId": "10559206703728046520"
     },
     "user_tz": -540
    },
    "id": "6iPSIFL3OgSR",
    "outputId": "20a46373-d98d-475c-ed20-0129e7534070"
   },
   "outputs": [
    {
     "data": {
      "text/html": [
       "<div>\n",
       "<style scoped>\n",
       "    .dataframe tbody tr th:only-of-type {\n",
       "        vertical-align: middle;\n",
       "    }\n",
       "\n",
       "    .dataframe tbody tr th {\n",
       "        vertical-align: top;\n",
       "    }\n",
       "\n",
       "    .dataframe thead th {\n",
       "        text-align: right;\n",
       "    }\n",
       "</style>\n",
       "<table border=\"1\" class=\"dataframe\">\n",
       "  <thead>\n",
       "    <tr style=\"text-align: right;\">\n",
       "      <th></th>\n",
       "      <th>age</th>\n",
       "      <th>height</th>\n",
       "    </tr>\n",
       "  </thead>\n",
       "  <tbody>\n",
       "    <tr>\n",
       "      <th>0</th>\n",
       "      <td>23</td>\n",
       "      <td>153.5</td>\n",
       "    </tr>\n",
       "    <tr>\n",
       "      <th>1</th>\n",
       "      <td>25</td>\n",
       "      <td>175.3</td>\n",
       "    </tr>\n",
       "    <tr>\n",
       "      <th>2</th>\n",
       "      <td>21</td>\n",
       "      <td>163.4</td>\n",
       "    </tr>\n",
       "    <tr>\n",
       "      <th>3</th>\n",
       "      <td>33</td>\n",
       "      <td>180.0</td>\n",
       "    </tr>\n",
       "    <tr>\n",
       "      <th>4</th>\n",
       "      <td>45</td>\n",
       "      <td>165.7</td>\n",
       "    </tr>\n",
       "  </tbody>\n",
       "</table>\n",
       "</div>"
      ],
      "text/plain": [
       "   age  height\n",
       "0   23   153.5\n",
       "1   25   175.3\n",
       "2   21   163.4\n",
       "3   33   180.0\n",
       "4   45   165.7"
      ]
     },
     "execution_count": 6,
     "metadata": {},
     "output_type": "execute_result"
    }
   ],
   "source": [
    "df[['age', 'height']]"
   ]
  },
  {
   "cell_type": "markdown",
   "metadata": {
    "id": "X8wOYUH6SWta"
   },
   "source": [
    "하나의 열만 슬라이싱하는 경우는 데이터프레임 이름 뒤에 마침표를 붙이고 열이름을 붙이면 된다. "
   ]
  },
  {
   "cell_type": "code",
   "execution_count": 7,
   "metadata": {
    "colab": {
     "base_uri": "https://localhost:8080/"
    },
    "executionInfo": {
     "elapsed": 254,
     "status": "ok",
     "timestamp": 1631448619405,
     "user": {
      "displayName": "Yonghee Lee",
      "photoUrl": "https://lh3.googleusercontent.com/a-/AOh14GhAdQHSNVWnNOcFlUVngZa1OBgaG7xdUrznR__gdg=s64",
      "userId": "10559206703728046520"
     },
     "user_tz": -540
    },
    "id": "u3yWecAXSWOf",
    "outputId": "dd870603-ee21-4461-9b4a-91f44c4c04c2"
   },
   "outputs": [
    {
     "data": {
      "text/plain": [
       "0    M\n",
       "1    F\n",
       "2    M\n",
       "3    M\n",
       "4    F\n",
       "Name: sex, dtype: object"
      ]
     },
     "execution_count": 7,
     "metadata": {},
     "output_type": "execute_result"
    }
   ],
   "source": [
    "df.sex"
   ]
  },
  {
   "cell_type": "markdown",
   "metadata": {
    "id": "3y2mvOuCfhAK"
   },
   "source": [
    "## 행 선택"
   ]
  },
  {
   "cell_type": "markdown",
   "metadata": {
    "id": "XLVAHvk4TQW0"
   },
   "source": [
    "이제 특정한 성질을 가진 행, 즉 자료의 구성 단위의 일부만을 선택해 보자. 데이터프레임 뒤 괄호 `[]` 안에 비교연산자를 이용한 조건 표현식을 넣어주면 조건이 만족하는 행만 추출된다.\n",
    "\n",
    "예를 들어 남자 구성원을 다음과 같이 슬라이싱할 수 있다. "
   ]
  },
  {
   "cell_type": "code",
   "execution_count": 8,
   "metadata": {
    "colab": {
     "base_uri": "https://localhost:8080/",
     "height": 142
    },
    "executionInfo": {
     "elapsed": 280,
     "status": "ok",
     "timestamp": 1631438440722,
     "user": {
      "displayName": "Yonghee Lee",
      "photoUrl": "https://lh3.googleusercontent.com/a-/AOh14GhAdQHSNVWnNOcFlUVngZa1OBgaG7xdUrznR__gdg=s64",
      "userId": "10559206703728046520"
     },
     "user_tz": -540
    },
    "id": "y7cDjwtgSU2p",
    "outputId": "2435a2fc-3466-4702-a375-5a5b56ee1d45"
   },
   "outputs": [
    {
     "data": {
      "text/html": [
       "<div>\n",
       "<style scoped>\n",
       "    .dataframe tbody tr th:only-of-type {\n",
       "        vertical-align: middle;\n",
       "    }\n",
       "\n",
       "    .dataframe tbody tr th {\n",
       "        vertical-align: top;\n",
       "    }\n",
       "\n",
       "    .dataframe thead th {\n",
       "        text-align: right;\n",
       "    }\n",
       "</style>\n",
       "<table border=\"1\" class=\"dataframe\">\n",
       "  <thead>\n",
       "    <tr style=\"text-align: right;\">\n",
       "      <th></th>\n",
       "      <th>name</th>\n",
       "      <th>sex</th>\n",
       "      <th>age</th>\n",
       "      <th>height</th>\n",
       "    </tr>\n",
       "  </thead>\n",
       "  <tbody>\n",
       "    <tr>\n",
       "      <th>0</th>\n",
       "      <td>이철수</td>\n",
       "      <td>M</td>\n",
       "      <td>23</td>\n",
       "      <td>153.5</td>\n",
       "    </tr>\n",
       "    <tr>\n",
       "      <th>2</th>\n",
       "      <td>홍길동</td>\n",
       "      <td>M</td>\n",
       "      <td>21</td>\n",
       "      <td>163.4</td>\n",
       "    </tr>\n",
       "    <tr>\n",
       "      <th>3</th>\n",
       "      <td>John Smith</td>\n",
       "      <td>M</td>\n",
       "      <td>33</td>\n",
       "      <td>180.0</td>\n",
       "    </tr>\n",
       "  </tbody>\n",
       "</table>\n",
       "</div>"
      ],
      "text/plain": [
       "         name sex  age  height\n",
       "0         이철수   M   23   153.5\n",
       "2         홍길동   M   21   163.4\n",
       "3  John Smith   M   33   180.0"
      ]
     },
     "execution_count": 8,
     "metadata": {},
     "output_type": "execute_result"
    }
   ],
   "source": [
    "df[ df['sex'] == 'M' ]"
   ]
  },
  {
   "cell_type": "markdown",
   "metadata": {
    "id": "cWWIoQMxUN48"
   },
   "source": [
    "위에서 사용한 조건식은 `df['sex'] == 'M'` 로서 `df['sex']` 의 자료를 각각 문자열 `M` 과 비교하여 참이면 `True`, 거짓이면 `False` 로 결과를 생성하고 `True` 인 행만 슬라이싱 해준다."
   ]
  },
  {
   "cell_type": "code",
   "execution_count": 9,
   "metadata": {
    "colab": {
     "base_uri": "https://localhost:8080/"
    },
    "executionInfo": {
     "elapsed": 267,
     "status": "ok",
     "timestamp": 1631438554089,
     "user": {
      "displayName": "Yonghee Lee",
      "photoUrl": "https://lh3.googleusercontent.com/a-/AOh14GhAdQHSNVWnNOcFlUVngZa1OBgaG7xdUrznR__gdg=s64",
      "userId": "10559206703728046520"
     },
     "user_tz": -540
    },
    "id": "GpkxCz4sTwZg",
    "outputId": "94dc4fda-ed08-4512-ddb1-71117d902c0a"
   },
   "outputs": [
    {
     "data": {
      "text/plain": [
       "0     True\n",
       "1    False\n",
       "2     True\n",
       "3     True\n",
       "4    False\n",
       "Name: sex, dtype: bool"
      ]
     },
     "execution_count": 9,
     "metadata": {},
     "output_type": "execute_result"
    }
   ],
   "source": [
    "df['sex'] == 'M'"
   ]
  },
  {
   "cell_type": "markdown",
   "metadata": {
    "id": "swy2Vv2feVuk"
   },
   "source": [
    "자료에서 선택해야할 경우의 수가 많은 경우 다음과 같은 `.isin()` 메소드를 사용할 수 있다. `.isin` 함수의 괄호 안에 선택할 문자 또는 숫자를 리스트 형태로 넣어준다.\n",
    "\n",
    "예를 들어 나이가 25세와 33세인 사람만 슬라이싱 해보자."
   ]
  },
  {
   "cell_type": "code",
   "execution_count": 10,
   "metadata": {
    "colab": {
     "base_uri": "https://localhost:8080/",
     "height": 110
    },
    "executionInfo": {
     "elapsed": 252,
     "status": "ok",
     "timestamp": 1631448698698,
     "user": {
      "displayName": "Yonghee Lee",
      "photoUrl": "https://lh3.googleusercontent.com/a-/AOh14GhAdQHSNVWnNOcFlUVngZa1OBgaG7xdUrznR__gdg=s64",
      "userId": "10559206703728046520"
     },
     "user_tz": -540
    },
    "id": "cngS144AeWSv",
    "outputId": "1f6f29bf-1af7-485f-a84d-fce6ee38575d"
   },
   "outputs": [
    {
     "data": {
      "text/html": [
       "<div>\n",
       "<style scoped>\n",
       "    .dataframe tbody tr th:only-of-type {\n",
       "        vertical-align: middle;\n",
       "    }\n",
       "\n",
       "    .dataframe tbody tr th {\n",
       "        vertical-align: top;\n",
       "    }\n",
       "\n",
       "    .dataframe thead th {\n",
       "        text-align: right;\n",
       "    }\n",
       "</style>\n",
       "<table border=\"1\" class=\"dataframe\">\n",
       "  <thead>\n",
       "    <tr style=\"text-align: right;\">\n",
       "      <th></th>\n",
       "      <th>name</th>\n",
       "      <th>sex</th>\n",
       "      <th>age</th>\n",
       "      <th>height</th>\n",
       "    </tr>\n",
       "  </thead>\n",
       "  <tbody>\n",
       "    <tr>\n",
       "      <th>1</th>\n",
       "      <td>김영희</td>\n",
       "      <td>F</td>\n",
       "      <td>25</td>\n",
       "      <td>175.3</td>\n",
       "    </tr>\n",
       "    <tr>\n",
       "      <th>3</th>\n",
       "      <td>John Smith</td>\n",
       "      <td>M</td>\n",
       "      <td>33</td>\n",
       "      <td>180.0</td>\n",
       "    </tr>\n",
       "  </tbody>\n",
       "</table>\n",
       "</div>"
      ],
      "text/plain": [
       "         name sex  age  height\n",
       "1         김영희   F   25   175.3\n",
       "3  John Smith   M   33   180.0"
      ]
     },
     "execution_count": 10,
     "metadata": {},
     "output_type": "execute_result"
    }
   ],
   "source": [
    "df[ df['age'].isin([25,33]) ]"
   ]
  },
  {
   "cell_type": "markdown",
   "metadata": {
    "id": "etKpxTzKUvU2"
   },
   "source": [
    "만약 키가 160 이상인 남자 구성원만 슬라이싱 하려면 다음과 같은 명령어를 사용한다."
   ]
  },
  {
   "cell_type": "code",
   "execution_count": 11,
   "metadata": {
    "colab": {
     "base_uri": "https://localhost:8080/",
     "height": 110
    },
    "executionInfo": {
     "elapsed": 366,
     "status": "ok",
     "timestamp": 1631448706586,
     "user": {
      "displayName": "Yonghee Lee",
      "photoUrl": "https://lh3.googleusercontent.com/a-/AOh14GhAdQHSNVWnNOcFlUVngZa1OBgaG7xdUrznR__gdg=s64",
      "userId": "10559206703728046520"
     },
     "user_tz": -540
    },
    "id": "xUVV09kWUMFl",
    "outputId": "e145b5c3-166a-45f7-b4f3-6a70e8be2ff2"
   },
   "outputs": [
    {
     "data": {
      "text/html": [
       "<div>\n",
       "<style scoped>\n",
       "    .dataframe tbody tr th:only-of-type {\n",
       "        vertical-align: middle;\n",
       "    }\n",
       "\n",
       "    .dataframe tbody tr th {\n",
       "        vertical-align: top;\n",
       "    }\n",
       "\n",
       "    .dataframe thead th {\n",
       "        text-align: right;\n",
       "    }\n",
       "</style>\n",
       "<table border=\"1\" class=\"dataframe\">\n",
       "  <thead>\n",
       "    <tr style=\"text-align: right;\">\n",
       "      <th></th>\n",
       "      <th>name</th>\n",
       "      <th>sex</th>\n",
       "      <th>age</th>\n",
       "      <th>height</th>\n",
       "    </tr>\n",
       "  </thead>\n",
       "  <tbody>\n",
       "    <tr>\n",
       "      <th>2</th>\n",
       "      <td>홍길동</td>\n",
       "      <td>M</td>\n",
       "      <td>21</td>\n",
       "      <td>163.4</td>\n",
       "    </tr>\n",
       "    <tr>\n",
       "      <th>3</th>\n",
       "      <td>John Smith</td>\n",
       "      <td>M</td>\n",
       "      <td>33</td>\n",
       "      <td>180.0</td>\n",
       "    </tr>\n",
       "  </tbody>\n",
       "</table>\n",
       "</div>"
      ],
      "text/plain": [
       "         name sex  age  height\n",
       "2         홍길동   M   21   163.4\n",
       "3  John Smith   M   33   180.0"
      ]
     },
     "execution_count": 11,
     "metadata": {},
     "output_type": "execute_result"
    }
   ],
   "source": [
    "df[ (df['sex'] == 'M') & (df['height'] >= 160.0) ]"
   ]
  },
  {
   "cell_type": "markdown",
   "metadata": {
    "id": "uOeVV8eWVSqO"
   },
   "source": [
    "만약 나이가 30세 이하 또는 키가 160 미만인 행만 슬라이싱 하려면 다음과 같은 명령어를 사용한다."
   ]
  },
  {
   "cell_type": "code",
   "execution_count": 12,
   "metadata": {
    "colab": {
     "base_uri": "https://localhost:8080/",
     "height": 142
    },
    "executionInfo": {
     "elapsed": 245,
     "status": "ok",
     "timestamp": 1631448717199,
     "user": {
      "displayName": "Yonghee Lee",
      "photoUrl": "https://lh3.googleusercontent.com/a-/AOh14GhAdQHSNVWnNOcFlUVngZa1OBgaG7xdUrznR__gdg=s64",
      "userId": "10559206703728046520"
     },
     "user_tz": -540
    },
    "id": "Gl10fzVBVCVh",
    "outputId": "b4e7b980-2fc6-47fd-b62e-d2f18286ac54"
   },
   "outputs": [
    {
     "data": {
      "text/html": [
       "<div>\n",
       "<style scoped>\n",
       "    .dataframe tbody tr th:only-of-type {\n",
       "        vertical-align: middle;\n",
       "    }\n",
       "\n",
       "    .dataframe tbody tr th {\n",
       "        vertical-align: top;\n",
       "    }\n",
       "\n",
       "    .dataframe thead th {\n",
       "        text-align: right;\n",
       "    }\n",
       "</style>\n",
       "<table border=\"1\" class=\"dataframe\">\n",
       "  <thead>\n",
       "    <tr style=\"text-align: right;\">\n",
       "      <th></th>\n",
       "      <th>name</th>\n",
       "      <th>sex</th>\n",
       "      <th>age</th>\n",
       "      <th>height</th>\n",
       "    </tr>\n",
       "  </thead>\n",
       "  <tbody>\n",
       "    <tr>\n",
       "      <th>0</th>\n",
       "      <td>이철수</td>\n",
       "      <td>M</td>\n",
       "      <td>23</td>\n",
       "      <td>153.5</td>\n",
       "    </tr>\n",
       "    <tr>\n",
       "      <th>1</th>\n",
       "      <td>김영희</td>\n",
       "      <td>F</td>\n",
       "      <td>25</td>\n",
       "      <td>175.3</td>\n",
       "    </tr>\n",
       "    <tr>\n",
       "      <th>2</th>\n",
       "      <td>홍길동</td>\n",
       "      <td>M</td>\n",
       "      <td>21</td>\n",
       "      <td>163.4</td>\n",
       "    </tr>\n",
       "  </tbody>\n",
       "</table>\n",
       "</div>"
      ],
      "text/plain": [
       "  name sex  age  height\n",
       "0  이철수   M   23   153.5\n",
       "1  김영희   F   25   175.3\n",
       "2  홍길동   M   21   163.4"
      ]
     },
     "execution_count": 12,
     "metadata": {},
     "output_type": "execute_result"
    }
   ],
   "source": [
    "df[ (df['age'] <= 30) | (df['height'] < 160.0) ]"
   ]
  },
  {
   "cell_type": "markdown",
   "metadata": {
    "id": "1FSxejY6V3P9"
   },
   "source": [
    "데이터프레임에서 행을 조건에 따라서 슬라이싱 할 때 다음과 같은 규칙을 따른다.\n",
    "\n",
    "- 비교연산자 `<`, `<=`, `>`, `>=`, `!=`, `==` 을 사용한다.\n",
    "- 두 개 이상의 비교 표현식을 연결할 경우 **또는(OR)** 은 `|` 을 사용하고 **그리고(AND)** 는 `&` 를 사용한다.\n",
    "- 비교 표현식을 연결할 경우 표현식은 언제나 괄호 `()` 로 묶어준다.\n",
    "\n",
    "참고로 두 개 이상의 비교 표현식을 연결할 경우 사용하는 연산자 `|` 와 `&` 는 비트단위연산자(bit-wise operator) 라고 부른다. 데이터프레임에 조건식을 사용하여 슬라이싱 할 경우 논리연산자 `or` 와 `and` 는 사용할 수 없다."
   ]
  },
  {
   "cell_type": "markdown",
   "metadata": {
    "id": "hJDILVuIfn4f"
   },
   "source": [
    "## 행과 열 선택"
   ]
  },
  {
   "cell_type": "markdown",
   "metadata": {
    "id": "fAv4nDGtX1Sd"
   },
   "source": [
    "이제 특정한 열과 행을 동시에 슬라이싱 해보자.\n",
    "\n",
    "만약 키가 170 이상인 사람들의 이름이 필요하면 다음과 같이 슬라이싱할 수 있다. 괄호에서 첫 부분은 행에 대한 조건을 쓰고 컴마 `,` 로 분리한 후 열이름를 써준다.\n",
    "\n",
    "여기서 유의해할 점은 행과 열을 동시에 슬라이싱할 경우 테이터프레임 이름 뒤에 `.loc`를 붙여주어야 한다. 만약 붙여주지 않으면 오류가 발생한다."
   ]
  },
  {
   "cell_type": "code",
   "execution_count": 13,
   "metadata": {
    "colab": {
     "base_uri": "https://localhost:8080/"
    },
    "executionInfo": {
     "elapsed": 263,
     "status": "ok",
     "timestamp": 1631448783071,
     "user": {
      "displayName": "Yonghee Lee",
      "photoUrl": "https://lh3.googleusercontent.com/a-/AOh14GhAdQHSNVWnNOcFlUVngZa1OBgaG7xdUrznR__gdg=s64",
      "userId": "10559206703728046520"
     },
     "user_tz": -540
    },
    "id": "7wBN3MNgV1ee",
    "outputId": "da8372ad-3908-40c2-fa79-cc72d69a5b70"
   },
   "outputs": [
    {
     "data": {
      "text/plain": [
       "1           김영희\n",
       "3    John Smith\n",
       "Name: name, dtype: object"
      ]
     },
     "execution_count": 13,
     "metadata": {},
     "output_type": "execute_result"
    }
   ],
   "source": [
    "df_1 = df.loc[ (df['height'] >= 170.0) , 'name']\n",
    "df_1"
   ]
  },
  {
   "cell_type": "code",
   "execution_count": 14,
   "metadata": {
    "colab": {
     "base_uri": "https://localhost:8080/",
     "height": 142
    },
    "executionInfo": {
     "elapsed": 271,
     "status": "ok",
     "timestamp": 1631448785882,
     "user": {
      "displayName": "Yonghee Lee",
      "photoUrl": "https://lh3.googleusercontent.com/a-/AOh14GhAdQHSNVWnNOcFlUVngZa1OBgaG7xdUrznR__gdg=s64",
      "userId": "10559206703728046520"
     },
     "user_tz": -540
    },
    "id": "gWX1M0VQY4SV",
    "outputId": "a1df1a8f-ef1c-4883-9cda-1bf5bed5d98c"
   },
   "outputs": [
    {
     "data": {
      "text/html": [
       "<div>\n",
       "<style scoped>\n",
       "    .dataframe tbody tr th:only-of-type {\n",
       "        vertical-align: middle;\n",
       "    }\n",
       "\n",
       "    .dataframe tbody tr th {\n",
       "        vertical-align: top;\n",
       "    }\n",
       "\n",
       "    .dataframe thead th {\n",
       "        text-align: right;\n",
       "    }\n",
       "</style>\n",
       "<table border=\"1\" class=\"dataframe\">\n",
       "  <thead>\n",
       "    <tr style=\"text-align: right;\">\n",
       "      <th></th>\n",
       "      <th>name</th>\n",
       "      <th>height</th>\n",
       "    </tr>\n",
       "  </thead>\n",
       "  <tbody>\n",
       "    <tr>\n",
       "      <th>0</th>\n",
       "      <td>이철수</td>\n",
       "      <td>153.5</td>\n",
       "    </tr>\n",
       "    <tr>\n",
       "      <th>2</th>\n",
       "      <td>홍길동</td>\n",
       "      <td>163.4</td>\n",
       "    </tr>\n",
       "    <tr>\n",
       "      <th>3</th>\n",
       "      <td>John Smith</td>\n",
       "      <td>180.0</td>\n",
       "    </tr>\n",
       "  </tbody>\n",
       "</table>\n",
       "</div>"
      ],
      "text/plain": [
       "         name  height\n",
       "0         이철수   153.5\n",
       "2         홍길동   163.4\n",
       "3  John Smith   180.0"
      ]
     },
     "execution_count": 14,
     "metadata": {},
     "output_type": "execute_result"
    }
   ],
   "source": [
    "df.loc[ (df['sex'] == 'M') , ['name', 'height']]"
   ]
  },
  {
   "cell_type": "markdown",
   "metadata": {
    "id": "p4fjUNIZZqde"
   },
   "source": [
    "데이터프레임의 행과 열에 대한 인덱스를 숫자로 사용하여 슬라이싱하려면 데이터프레임 이름 뒤에 `iloc` 을 붙여주고 괄호 `[]` 안에 행과 열 순서의 위치를 써주면 된다. 이 경우 파이썬은 모든 위치는 0으로 시작하는데 유의하자.  \n",
    "\n",
    "하나의 위치가 아닌 여러개의 연속적인 위치는 `x:y` 형태이 범위 형식을 사용하여 지칭한다. 모든 열과 행을 지칭하는 경우 공란으로 넣거나 `:`을 사용한다."
   ]
  },
  {
   "cell_type": "code",
   "execution_count": 15,
   "metadata": {
    "colab": {
     "base_uri": "https://localhost:8080/",
     "height": 35
    },
    "executionInfo": {
     "elapsed": 378,
     "status": "ok",
     "timestamp": 1631448835026,
     "user": {
      "displayName": "Yonghee Lee",
      "photoUrl": "https://lh3.googleusercontent.com/a-/AOh14GhAdQHSNVWnNOcFlUVngZa1OBgaG7xdUrznR__gdg=s64",
      "userId": "10559206703728046520"
     },
     "user_tz": -540
    },
    "id": "zBXWUl1vZjVU",
    "outputId": "da04acce-fe9e-487d-c8e1-164f08e35448"
   },
   "outputs": [
    {
     "data": {
      "text/plain": [
       "'이철수'"
      ]
     },
     "execution_count": 15,
     "metadata": {},
     "output_type": "execute_result"
    }
   ],
   "source": [
    "df.iloc[0,0]"
   ]
  },
  {
   "cell_type": "code",
   "execution_count": 16,
   "metadata": {
    "colab": {
     "base_uri": "https://localhost:8080/"
    },
    "executionInfo": {
     "elapsed": 3,
     "status": "ok",
     "timestamp": 1631448836129,
     "user": {
      "displayName": "Yonghee Lee",
      "photoUrl": "https://lh3.googleusercontent.com/a-/AOh14GhAdQHSNVWnNOcFlUVngZa1OBgaG7xdUrznR__gdg=s64",
      "userId": "10559206703728046520"
     },
     "user_tz": -540
    },
    "id": "EbhKwF5BaVAq",
    "outputId": "de82cccf-4a43-47ad-9867-60b7b09ac210"
   },
   "outputs": [
    {
     "data": {
      "text/plain": [
       "165.7"
      ]
     },
     "execution_count": 16,
     "metadata": {},
     "output_type": "execute_result"
    }
   ],
   "source": [
    "df.iloc[4,3]"
   ]
  },
  {
   "cell_type": "code",
   "execution_count": 17,
   "metadata": {
    "colab": {
     "base_uri": "https://localhost:8080/"
    },
    "executionInfo": {
     "elapsed": 294,
     "status": "ok",
     "timestamp": 1631448837715,
     "user": {
      "displayName": "Yonghee Lee",
      "photoUrl": "https://lh3.googleusercontent.com/a-/AOh14GhAdQHSNVWnNOcFlUVngZa1OBgaG7xdUrznR__gdg=s64",
      "userId": "10559206703728046520"
     },
     "user_tz": -540
    },
    "id": "WMmP613xbtS9",
    "outputId": "4bf9349d-650c-4be6-addf-0f1eccc40111"
   },
   "outputs": [
    {
     "data": {
      "text/plain": [
       "sex     M\n",
       "age    33\n",
       "Name: 3, dtype: object"
      ]
     },
     "execution_count": 17,
     "metadata": {},
     "output_type": "execute_result"
    }
   ],
   "source": [
    "df.iloc[3,1:3]"
   ]
  },
  {
   "cell_type": "code",
   "execution_count": 18,
   "metadata": {
    "colab": {
     "base_uri": "https://localhost:8080/"
    },
    "executionInfo": {
     "elapsed": 249,
     "status": "ok",
     "timestamp": 1631448840442,
     "user": {
      "displayName": "Yonghee Lee",
      "photoUrl": "https://lh3.googleusercontent.com/a-/AOh14GhAdQHSNVWnNOcFlUVngZa1OBgaG7xdUrznR__gdg=s64",
      "userId": "10559206703728046520"
     },
     "user_tz": -540
    },
    "id": "K85B-I4OaYPX",
    "outputId": "e12664eb-c369-4116-af0a-6f556cca1b8b"
   },
   "outputs": [
    {
     "data": {
      "text/plain": [
       "0    23\n",
       "1    25\n",
       "2    21\n",
       "3    33\n",
       "4    45\n",
       "Name: age, dtype: int64"
      ]
     },
     "execution_count": 18,
     "metadata": {},
     "output_type": "execute_result"
    }
   ],
   "source": [
    "df.iloc[:,2]"
   ]
  },
  {
   "cell_type": "code",
   "execution_count": 19,
   "metadata": {
    "colab": {
     "base_uri": "https://localhost:8080/"
    },
    "executionInfo": {
     "elapsed": 263,
     "status": "ok",
     "timestamp": 1631448843469,
     "user": {
      "displayName": "Yonghee Lee",
      "photoUrl": "https://lh3.googleusercontent.com/a-/AOh14GhAdQHSNVWnNOcFlUVngZa1OBgaG7xdUrznR__gdg=s64",
      "userId": "10559206703728046520"
     },
     "user_tz": -540
    },
    "id": "JXtdJfVVgyOS",
    "outputId": "93826d28-053e-40fb-ccfc-c6c45060b9e2"
   },
   "outputs": [
    {
     "data": {
      "text/plain": [
       "name        이철수\n",
       "sex           M\n",
       "age          23\n",
       "height    153.5\n",
       "Name: 0, dtype: object"
      ]
     },
     "execution_count": 19,
     "metadata": {},
     "output_type": "execute_result"
    }
   ],
   "source": [
    "df.iloc[0,:]"
   ]
  },
  {
   "cell_type": "markdown",
   "metadata": {
    "id": "Y3DWpBe4hR3x"
   },
   "source": [
    "## 참고"
   ]
  },
  {
   "cell_type": "markdown",
   "metadata": {
    "id": "UjMFKCZMgML4"
   },
   "source": [
    "데이터프레임을 구성하는 **하나의 행 또는 열은 시리즈(`Series`)** 란 형식으로 저장된다.\n"
   ]
  },
  {
   "cell_type": "code",
   "execution_count": 20,
   "metadata": {
    "colab": {
     "base_uri": "https://localhost:8080/"
    },
    "executionInfo": {
     "elapsed": 246,
     "status": "ok",
     "timestamp": 1631448909064,
     "user": {
      "displayName": "Yonghee Lee",
      "photoUrl": "https://lh3.googleusercontent.com/a-/AOh14GhAdQHSNVWnNOcFlUVngZa1OBgaG7xdUrznR__gdg=s64",
      "userId": "10559206703728046520"
     },
     "user_tz": -540
    },
    "id": "MTTbUlhj7rlX",
    "outputId": "86f822a8-8ac4-49d8-89c4-f925d57c019e"
   },
   "outputs": [
    {
     "data": {
      "text/plain": [
       "0    M\n",
       "1    F\n",
       "2    M\n",
       "3    M\n",
       "4    F\n",
       "Name: sex, dtype: object"
      ]
     },
     "execution_count": 20,
     "metadata": {},
     "output_type": "execute_result"
    }
   ],
   "source": [
    "df['sex']"
   ]
  },
  {
   "cell_type": "code",
   "execution_count": 21,
   "metadata": {
    "colab": {
     "base_uri": "https://localhost:8080/"
    },
    "executionInfo": {
     "elapsed": 254,
     "status": "ok",
     "timestamp": 1631448912186,
     "user": {
      "displayName": "Yonghee Lee",
      "photoUrl": "https://lh3.googleusercontent.com/a-/AOh14GhAdQHSNVWnNOcFlUVngZa1OBgaG7xdUrznR__gdg=s64",
      "userId": "10559206703728046520"
     },
     "user_tz": -540
    },
    "id": "UvKpwnxHggEE",
    "outputId": "85e896b2-9733-4959-b29a-00175038e67c"
   },
   "outputs": [
    {
     "data": {
      "text/plain": [
       "pandas.core.series.Series"
      ]
     },
     "execution_count": 21,
     "metadata": {},
     "output_type": "execute_result"
    }
   ],
   "source": [
    "type(df['sex'])"
   ]
  },
  {
   "cell_type": "code",
   "execution_count": 22,
   "metadata": {
    "colab": {
     "base_uri": "https://localhost:8080/"
    },
    "executionInfo": {
     "elapsed": 258,
     "status": "ok",
     "timestamp": 1631448929014,
     "user": {
      "displayName": "Yonghee Lee",
      "photoUrl": "https://lh3.googleusercontent.com/a-/AOh14GhAdQHSNVWnNOcFlUVngZa1OBgaG7xdUrznR__gdg=s64",
      "userId": "10559206703728046520"
     },
     "user_tz": -540
    },
    "id": "cOmUCOzl7wg3",
    "outputId": "1d49d728-c0e7-469c-c453-58d2b733aa61"
   },
   "outputs": [
    {
     "data": {
      "text/plain": [
       "name        이철수\n",
       "sex           M\n",
       "age          23\n",
       "height    153.5\n",
       "Name: 0, dtype: object"
      ]
     },
     "execution_count": 22,
     "metadata": {},
     "output_type": "execute_result"
    }
   ],
   "source": [
    "df.iloc[0,:]"
   ]
  },
  {
   "cell_type": "code",
   "execution_count": 23,
   "metadata": {
    "colab": {
     "base_uri": "https://localhost:8080/"
    },
    "executionInfo": {
     "elapsed": 246,
     "status": "ok",
     "timestamp": 1631448915103,
     "user": {
      "displayName": "Yonghee Lee",
      "photoUrl": "https://lh3.googleusercontent.com/a-/AOh14GhAdQHSNVWnNOcFlUVngZa1OBgaG7xdUrznR__gdg=s64",
      "userId": "10559206703728046520"
     },
     "user_tz": -540
    },
    "id": "HmfZtGJYg4PP",
    "outputId": "1112ba40-eb4f-4baf-e7b0-e51cb74f617e"
   },
   "outputs": [
    {
     "data": {
      "text/plain": [
       "pandas.core.series.Series"
      ]
     },
     "execution_count": 23,
     "metadata": {},
     "output_type": "execute_result"
    }
   ],
   "source": [
    "type(df.iloc[0,:])"
   ]
  },
  {
   "cell_type": "markdown",
   "metadata": {
    "id": "UxVCL6QeapKZ"
   },
   "source": [
    "**데이터프레임의 인덱스는 행과 열을 지칭할 때 사용한다. 데이터프레임을 슬라이싱할 때 인덱스는 다음과 같은 두 종류의 형식을 사용할 수 있다.**\n",
    "\n",
    "- 라벨(label, 이름)에 기반한 인덱스\n",
    "  + 데이타프레임의 열이름(column name)으로 지칭하거나 또는 행을 조건식을 이용한 `True`, `False` 로 선택할 때 사용한다.\n",
    "  + 행과 열을 모두 슬라이싱 하는 경우 `.loc[]`을 사용한다.\n",
    "\n",
    "- 위치(integer position)에 기반한 인덱스\n",
    "  + 행과 열 순서의 위치를 나타내는 정수를 사용하여 슬라이싱한다.\n",
    "  + 모든 위치는 0으로 시작한다.\n",
    "  + `.iloc[]` 을 사용한다."
   ]
  },
  {
   "cell_type": "code",
   "execution_count": null,
   "metadata": {
    "id": "HcJ6yCNccww3"
   },
   "outputs": [],
   "source": []
  }
 ],
 "metadata": {
  "colab": {
   "authorship_tag": "ABX9TyM4t7IKNzkfKiKO1djMlseM",
   "name": "dataframe-intro.ipynb",
   "provenance": []
  },
  "interpreter": {
   "hash": "3c743bb9761483425747f572da09963146dc6d92679c768be5abee3553babfe7"
  },
  "kernelspec": {
   "display_name": "Python 3.8.10 64-bit (conda)",
   "name": "python3"
  },
  "language_info": {
   "codemirror_mode": {
    "name": "ipython",
    "version": 3
   },
   "file_extension": ".py",
   "mimetype": "text/x-python",
   "name": "python",
   "nbconvert_exporter": "python",
   "pygments_lexer": "ipython3",
   "version": "3.9.12"
  }
 },
 "nbformat": 4,
 "nbformat_minor": 2
}