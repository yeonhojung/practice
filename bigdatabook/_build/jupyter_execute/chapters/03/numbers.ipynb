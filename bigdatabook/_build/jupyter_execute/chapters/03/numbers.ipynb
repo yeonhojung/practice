{
 "cells": [
  {
   "cell_type": "markdown",
   "metadata": {
    "id": "9F-ORYfZprO5"
   },
   "source": [
    "# 숫자"
   ]
  },
  {
   "cell_type": "markdown",
   "metadata": {
    "id": "SbZcsVd-pzER"
   },
   "source": [
    "파이썬에서는 숫자를 다음과 같은 두 가지 형식으로 정의할 수 있다.\n",
    "\n",
    "- `int` : 정수형\n",
    "- `float` : 부동소숫점 \n",
    "\n",
    "`int` 형식은 숫자를 정수(integer)로 나타낼 때 사용하는 형식이다. `float`은 소수점이 붙은 형태인 실수를 저장할 때 사용하는 형식이다. \n",
    "\n",
    "데이터를 저장하는 **형식(type)** 이 다르다는 것은 숫자를 컴퓨터에 입력할 때 **메모리(memory)에 저장하는 방법**이 다르다는 것을 의미한다. 메모리에 저장하는 방식이 다르면 숫자를 사용할 때 여러 가지 차이점이 나타난다.\n",
    "\n",
    "파이썬에서 함수 `type()` 을 이용하면 자료의 형식을 알려준다\n",
    "\n"
   ]
  },
  {
   "cell_type": "code",
   "execution_count": 1,
   "metadata": {
    "executionInfo": {
     "elapsed": 3,
     "status": "ok",
     "timestamp": 1631446834313,
     "user": {
      "displayName": "Yonghee Lee",
      "photoUrl": "https://lh3.googleusercontent.com/a-/AOh14GhAdQHSNVWnNOcFlUVngZa1OBgaG7xdUrznR__gdg=s64",
      "userId": "10559206703728046520"
     },
     "user_tz": -540
    },
    "id": "tVLaDxCLeDkJ"
   },
   "outputs": [],
   "source": [
    "import math\n",
    "import sys"
   ]
  },
  {
   "cell_type": "markdown",
   "metadata": {
    "id": "gCNJebsItXRC"
   },
   "source": [
    "-----------"
   ]
  },
  {
   "cell_type": "markdown",
   "metadata": {
    "id": "d5pvyRnttapQ"
   },
   "source": [
    "다음과 같이 `8` 과 `8.0`은 수학적으로는 같은 숫자이지만 `8`은 정수형(`int`)으로 저장되고  `8.0` 은 부동소수점 형식(`float`)으로 저장된다. "
   ]
  },
  {
   "cell_type": "code",
   "execution_count": 2,
   "metadata": {
    "colab": {
     "base_uri": "https://localhost:8080/"
    },
    "executionInfo": {
     "elapsed": 245,
     "status": "ok",
     "timestamp": 1631446838702,
     "user": {
      "displayName": "Yonghee Lee",
      "photoUrl": "https://lh3.googleusercontent.com/a-/AOh14GhAdQHSNVWnNOcFlUVngZa1OBgaG7xdUrznR__gdg=s64",
      "userId": "10559206703728046520"
     },
     "user_tz": -540
    },
    "id": "sgboichcple3",
    "outputId": "59d6ca42-2e43-45d9-a0d1-b2e122c28b04"
   },
   "outputs": [
    {
     "data": {
      "text/plain": [
       "8"
      ]
     },
     "execution_count": 2,
     "metadata": {},
     "output_type": "execute_result"
    }
   ],
   "source": [
    "8"
   ]
  },
  {
   "cell_type": "code",
   "execution_count": 3,
   "metadata": {
    "colab": {
     "base_uri": "https://localhost:8080/"
    },
    "executionInfo": {
     "elapsed": 3,
     "status": "ok",
     "timestamp": 1631446840471,
     "user": {
      "displayName": "Yonghee Lee",
      "photoUrl": "https://lh3.googleusercontent.com/a-/AOh14GhAdQHSNVWnNOcFlUVngZa1OBgaG7xdUrznR__gdg=s64",
      "userId": "10559206703728046520"
     },
     "user_tz": -540
    },
    "id": "Re3O_fXwsC3U",
    "outputId": "b0ba36e3-f644-4188-9efa-3157f0c53f6f"
   },
   "outputs": [
    {
     "data": {
      "text/plain": [
       "8.0"
      ]
     },
     "execution_count": 3,
     "metadata": {},
     "output_type": "execute_result"
    }
   ],
   "source": [
    "8.0"
   ]
  },
  {
   "cell_type": "code",
   "execution_count": 4,
   "metadata": {
    "colab": {
     "base_uri": "https://localhost:8080/"
    },
    "executionInfo": {
     "elapsed": 242,
     "status": "ok",
     "timestamp": 1631446842751,
     "user": {
      "displayName": "Yonghee Lee",
      "photoUrl": "https://lh3.googleusercontent.com/a-/AOh14GhAdQHSNVWnNOcFlUVngZa1OBgaG7xdUrznR__gdg=s64",
      "userId": "10559206703728046520"
     },
     "user_tz": -540
    },
    "id": "ZgB31BfMsFfN",
    "outputId": "9249fe2b-9e67-48a6-ecaa-68f44d66a0d0"
   },
   "outputs": [
    {
     "data": {
      "text/plain": [
       "int"
      ]
     },
     "execution_count": 4,
     "metadata": {},
     "output_type": "execute_result"
    }
   ],
   "source": [
    "type(8)"
   ]
  },
  {
   "cell_type": "code",
   "execution_count": 5,
   "metadata": {
    "colab": {
     "base_uri": "https://localhost:8080/"
    },
    "executionInfo": {
     "elapsed": 3,
     "status": "ok",
     "timestamp": 1631446844650,
     "user": {
      "displayName": "Yonghee Lee",
      "photoUrl": "https://lh3.googleusercontent.com/a-/AOh14GhAdQHSNVWnNOcFlUVngZa1OBgaG7xdUrznR__gdg=s64",
      "userId": "10559206703728046520"
     },
     "user_tz": -540
    },
    "id": "Onfo5vrdsC7D",
    "outputId": "2098e91e-ee98-48bb-842d-6d1b960c3951"
   },
   "outputs": [
    {
     "data": {
      "text/plain": [
       "float"
      ]
     },
     "execution_count": 5,
     "metadata": {},
     "output_type": "execute_result"
    }
   ],
   "source": [
    "type(0.8)"
   ]
  },
  {
   "cell_type": "markdown",
   "metadata": {
    "id": "7xb8avQXwxav"
   },
   "source": [
    "정수형 숫자들의 계산에서 실수가 나오면 부동소수점 형식으로 저장된다."
   ]
  },
  {
   "cell_type": "code",
   "execution_count": 6,
   "metadata": {
    "executionInfo": {
     "elapsed": 246,
     "status": "ok",
     "timestamp": 1631446852995,
     "user": {
      "displayName": "Yonghee Lee",
      "photoUrl": "https://lh3.googleusercontent.com/a-/AOh14GhAdQHSNVWnNOcFlUVngZa1OBgaG7xdUrznR__gdg=s64",
      "userId": "10559206703728046520"
     },
     "user_tz": -540
    },
    "id": "NY_7LXlOxE8W"
   },
   "outputs": [],
   "source": [
    "x = 1"
   ]
  },
  {
   "cell_type": "code",
   "execution_count": 7,
   "metadata": {
    "executionInfo": {
     "elapsed": 254,
     "status": "ok",
     "timestamp": 1631446854692,
     "user": {
      "displayName": "Yonghee Lee",
      "photoUrl": "https://lh3.googleusercontent.com/a-/AOh14GhAdQHSNVWnNOcFlUVngZa1OBgaG7xdUrznR__gdg=s64",
      "userId": "10559206703728046520"
     },
     "user_tz": -540
    },
    "id": "F5ItTyZsxE_j"
   },
   "outputs": [],
   "source": [
    "y = 3 "
   ]
  },
  {
   "cell_type": "code",
   "execution_count": 8,
   "metadata": {
    "colab": {
     "base_uri": "https://localhost:8080/"
    },
    "executionInfo": {
     "elapsed": 246,
     "status": "ok",
     "timestamp": 1631446856156,
     "user": {
      "displayName": "Yonghee Lee",
      "photoUrl": "https://lh3.googleusercontent.com/a-/AOh14GhAdQHSNVWnNOcFlUVngZa1OBgaG7xdUrznR__gdg=s64",
      "userId": "10559206703728046520"
     },
     "user_tz": -540
    },
    "id": "L9RKmGWsxOek",
    "outputId": "99ddb7a0-0139-4a95-b49b-4a87055bb640"
   },
   "outputs": [
    {
     "data": {
      "text/plain": [
       "0.3333333333333333"
      ]
     },
     "execution_count": 8,
     "metadata": {},
     "output_type": "execute_result"
    }
   ],
   "source": [
    "x/y"
   ]
  },
  {
   "cell_type": "code",
   "execution_count": 9,
   "metadata": {
    "colab": {
     "base_uri": "https://localhost:8080/"
    },
    "executionInfo": {
     "elapsed": 3,
     "status": "ok",
     "timestamp": 1631446858161,
     "user": {
      "displayName": "Yonghee Lee",
      "photoUrl": "https://lh3.googleusercontent.com/a-/AOh14GhAdQHSNVWnNOcFlUVngZa1OBgaG7xdUrznR__gdg=s64",
      "userId": "10559206703728046520"
     },
     "user_tz": -540
    },
    "id": "AY2_P4ffxOiq",
    "outputId": "9500cf32-f7e1-4b39-e86a-a61dfe5b8ab9"
   },
   "outputs": [
    {
     "data": {
      "text/plain": [
       "float"
      ]
     },
     "execution_count": 9,
     "metadata": {},
     "output_type": "execute_result"
    }
   ],
   "source": [
    "type(x/y)"
   ]
  },
  {
   "cell_type": "markdown",
   "metadata": {
    "id": "Jf_DZ6ybtuS8"
   },
   "source": [
    "파이썬에서 사용하는 정수형은 숫자의 크기에 제한을 받지 않는다 (파이썬 버젼 3.0 부터 적용되며 버젼 2.X 에서는 제약이 있다) "
   ]
  },
  {
   "cell_type": "code",
   "execution_count": 10,
   "metadata": {
    "colab": {
     "base_uri": "https://localhost:8080/"
    },
    "executionInfo": {
     "elapsed": 235,
     "status": "ok",
     "timestamp": 1631446862683,
     "user": {
      "displayName": "Yonghee Lee",
      "photoUrl": "https://lh3.googleusercontent.com/a-/AOh14GhAdQHSNVWnNOcFlUVngZa1OBgaG7xdUrznR__gdg=s64",
      "userId": "10559206703728046520"
     },
     "user_tz": -540
    },
    "id": "6Gzj8dwxsPbD",
    "outputId": "d08b96e2-0534-46b7-e8f2-d8a20d109522"
   },
   "outputs": [
    {
     "data": {
      "text/plain": [
       "1417315082138567032720255210353519969302563981215290038076973514044236598756327059769035336648132374674324215193204422244594445716341487457694617732238625874314626583491669701284686587855773536717426096092211598174166575328099956875492262010326699346133893700375355315111937233492319262187261209590353793785874777434103656417302563919988176126139015434933601141866086270683340764422105480418576759769165966112295211246642864160246076336957750304736038529329501453440773670860919386637258331504837566880577668021013841189499717194709469762851658008500781229342231867145722511317611139783942910257543607972348001"
      ]
     },
     "execution_count": 10,
     "metadata": {},
     "output_type": "execute_result"
    }
   ],
   "source": [
    "1234567 ** 100"
   ]
  },
  {
   "cell_type": "markdown",
   "metadata": {
    "id": "pc685aJRvePB"
   },
   "source": [
    "부동소수점 형식은 크기에 제한이 있다. 너무 작은 수는 부동소수점 형식으로 **정확하게** 저장할 수 없다. \n",
    "또한 너무 큰 수도 부동소수점 형식으로 저장할 수 없다.\n",
    "\n",
    "보통 여러분이 사용하는 컴퓨터에서는 다음과 같이 소수점 17 자리 이상의 아주 작은 실수는 정확하게 숫자의 값을 저장하지 못한다. "
   ]
  },
  {
   "cell_type": "code",
   "execution_count": 11,
   "metadata": {
    "colab": {
     "base_uri": "https://localhost:8080/"
    },
    "executionInfo": {
     "elapsed": 241,
     "status": "ok",
     "timestamp": 1631446911061,
     "user": {
      "displayName": "Yonghee Lee",
      "photoUrl": "https://lh3.googleusercontent.com/a-/AOh14GhAdQHSNVWnNOcFlUVngZa1OBgaG7xdUrznR__gdg=s64",
      "userId": "10559206703728046520"
     },
     "user_tz": -540
    },
    "id": "dpceOcfHyVoK",
    "outputId": "89eb456d-6010-4e44-beec-0ae3e4a77d25"
   },
   "outputs": [
    {
     "data": {
      "text/plain": [
       "0.3333333333333334"
      ]
     },
     "execution_count": 11,
     "metadata": {},
     "output_type": "execute_result"
    }
   ],
   "source": [
    "1/3 + 0.0000000000000001  # 소수점 16자리 부동소수점"
   ]
  },
  {
   "cell_type": "code",
   "execution_count": 12,
   "metadata": {
    "colab": {
     "base_uri": "https://localhost:8080/"
    },
    "executionInfo": {
     "elapsed": 255,
     "status": "ok",
     "timestamp": 1631446915613,
     "user": {
      "displayName": "Yonghee Lee",
      "photoUrl": "https://lh3.googleusercontent.com/a-/AOh14GhAdQHSNVWnNOcFlUVngZa1OBgaG7xdUrznR__gdg=s64",
      "userId": "10559206703728046520"
     },
     "user_tz": -540
    },
    "id": "ik3KJHk7yVwe",
    "outputId": "bd20b4ea-bb76-4a54-8e3f-6ae40923206d"
   },
   "outputs": [
    {
     "data": {
      "text/plain": [
       "False"
      ]
     },
     "execution_count": 12,
     "metadata": {},
     "output_type": "execute_result"
    }
   ],
   "source": [
    "1/3 == (1/3 + 0.0000000000000001)"
   ]
  },
  {
   "cell_type": "code",
   "execution_count": 13,
   "metadata": {
    "colab": {
     "base_uri": "https://localhost:8080/"
    },
    "executionInfo": {
     "elapsed": 231,
     "status": "ok",
     "timestamp": 1631446921355,
     "user": {
      "displayName": "Yonghee Lee",
      "photoUrl": "https://lh3.googleusercontent.com/a-/AOh14GhAdQHSNVWnNOcFlUVngZa1OBgaG7xdUrznR__gdg=s64",
      "userId": "10559206703728046520"
     },
     "user_tz": -540
    },
    "id": "0X9kge6ox42z",
    "outputId": "2ac1df73-1b82-4763-dde0-97dc3e8a0345"
   },
   "outputs": [
    {
     "data": {
      "text/plain": [
       "0.3333333333333333"
      ]
     },
     "execution_count": 13,
     "metadata": {},
     "output_type": "execute_result"
    }
   ],
   "source": [
    "1/3 + 0.00000000000000001  # 소수점 17자리 부동소수점"
   ]
  },
  {
   "cell_type": "code",
   "execution_count": 14,
   "metadata": {
    "colab": {
     "base_uri": "https://localhost:8080/"
    },
    "executionInfo": {
     "elapsed": 236,
     "status": "ok",
     "timestamp": 1631446923456,
     "user": {
      "displayName": "Yonghee Lee",
      "photoUrl": "https://lh3.googleusercontent.com/a-/AOh14GhAdQHSNVWnNOcFlUVngZa1OBgaG7xdUrznR__gdg=s64",
      "userId": "10559206703728046520"
     },
     "user_tz": -540
    },
    "id": "39x4S7I9x8qi",
    "outputId": "89c7d013-f62e-4f0b-d8d0-4099c947f4e3"
   },
   "outputs": [
    {
     "data": {
      "text/plain": [
       "True"
      ]
     },
     "execution_count": 14,
     "metadata": {},
     "output_type": "execute_result"
    }
   ],
   "source": [
    "1/3 == (1/3 + 0.00000000000000001)"
   ]
  },
  {
   "cell_type": "markdown",
   "metadata": {
    "id": "oVEBcBAqfWyd"
   },
   "source": [
    "두 개의  실수의 차이를 계산하는 경우 두 수의 차이 값이 우리가 생각하는 대수적인 결과와 다를 수 있습니다.  "
   ]
  },
  {
   "cell_type": "code",
   "execution_count": 15,
   "metadata": {
    "colab": {
     "base_uri": "https://localhost:8080/"
    },
    "executionInfo": {
     "elapsed": 252,
     "status": "ok",
     "timestamp": 1631446933495,
     "user": {
      "displayName": "Yonghee Lee",
      "photoUrl": "https://lh3.googleusercontent.com/a-/AOh14GhAdQHSNVWnNOcFlUVngZa1OBgaG7xdUrznR__gdg=s64",
      "userId": "10559206703728046520"
     },
     "user_tz": -540
    },
    "id": "Keg6iL8veyeH",
    "outputId": "d09f19b1-90d7-4eb4-9d16-60dc28bd9c83"
   },
   "outputs": [
    {
     "data": {
      "text/plain": [
       "0.010000000000000009"
      ]
     },
     "execution_count": 15,
     "metadata": {},
     "output_type": "execute_result"
    }
   ],
   "source": [
    "0.55 - 0.54"
   ]
  },
  {
   "cell_type": "code",
   "execution_count": 16,
   "metadata": {
    "colab": {
     "base_uri": "https://localhost:8080/"
    },
    "executionInfo": {
     "elapsed": 235,
     "status": "ok",
     "timestamp": 1631446936303,
     "user": {
      "displayName": "Yonghee Lee",
      "photoUrl": "https://lh3.googleusercontent.com/a-/AOh14GhAdQHSNVWnNOcFlUVngZa1OBgaG7xdUrznR__gdg=s64",
      "userId": "10559206703728046520"
     },
     "user_tz": -540
    },
    "id": "9thGm0PhefAh",
    "outputId": "f8a1adbe-52d1-48e9-fc7a-c109d78e3987"
   },
   "outputs": [
    {
     "data": {
      "text/plain": [
       "False"
      ]
     },
     "execution_count": 16,
     "metadata": {},
     "output_type": "execute_result"
    }
   ],
   "source": [
    "(0.55 - 0.54) == 0.01"
   ]
  },
  {
   "cell_type": "code",
   "execution_count": 17,
   "metadata": {
    "colab": {
     "base_uri": "https://localhost:8080/"
    },
    "executionInfo": {
     "elapsed": 231,
     "status": "ok",
     "timestamp": 1631446963387,
     "user": {
      "displayName": "Yonghee Lee",
      "photoUrl": "https://lh3.googleusercontent.com/a-/AOh14GhAdQHSNVWnNOcFlUVngZa1OBgaG7xdUrznR__gdg=s64",
      "userId": "10559206703728046520"
     },
     "user_tz": -540
    },
    "id": "j3nG2ZIShhhl",
    "outputId": "9eeff844-5990-4da5-f04b-826948a181d6"
   },
   "outputs": [
    {
     "data": {
      "text/plain": [
       "1.1102230246251565e-16"
      ]
     },
     "execution_count": 17,
     "metadata": {},
     "output_type": "execute_result"
    }
   ],
   "source": [
    "0.5555555555555555 - 0.5555555555555554"
   ]
  },
  {
   "cell_type": "markdown",
   "metadata": {
    "id": "1MTYcDNszC92"
   },
   "source": [
    "\n",
    "다음 두 표현식은 대수적으로 같은 뜻이지만 컴퓨터 표현식의 결과에 미세한 차이가 있다. \n",
    "\n",
    "$$ \\left ( \\sqrt{3} \\right )^2 \\quad \\sqrt{3^2} $$ "
   ]
  },
  {
   "cell_type": "code",
   "execution_count": 18,
   "metadata": {
    "colab": {
     "base_uri": "https://localhost:8080/"
    },
    "executionInfo": {
     "elapsed": 240,
     "status": "ok",
     "timestamp": 1631446972852,
     "user": {
      "displayName": "Yonghee Lee",
      "photoUrl": "https://lh3.googleusercontent.com/a-/AOh14GhAdQHSNVWnNOcFlUVngZa1OBgaG7xdUrznR__gdg=s64",
      "userId": "10559206703728046520"
     },
     "user_tz": -540
    },
    "id": "GghDXjEFy6yb",
    "outputId": "a7c9e9b5-2056-40f0-8ce9-940ce2ab5f57"
   },
   "outputs": [
    {
     "data": {
      "text/plain": [
       "2.9999999999999996"
      ]
     },
     "execution_count": 18,
     "metadata": {},
     "output_type": "execute_result"
    }
   ],
   "source": [
    "(3**0.5)**2 "
   ]
  },
  {
   "cell_type": "code",
   "execution_count": 19,
   "metadata": {
    "colab": {
     "base_uri": "https://localhost:8080/"
    },
    "executionInfo": {
     "elapsed": 238,
     "status": "ok",
     "timestamp": 1631446976296,
     "user": {
      "displayName": "Yonghee Lee",
      "photoUrl": "https://lh3.googleusercontent.com/a-/AOh14GhAdQHSNVWnNOcFlUVngZa1OBgaG7xdUrznR__gdg=s64",
      "userId": "10559206703728046520"
     },
     "user_tz": -540
    },
    "id": "zUS8LKy00XDf",
    "outputId": "259fbe9b-820d-4891-d6df-9d376d7f5cc0"
   },
   "outputs": [
    {
     "data": {
      "text/plain": [
       "3.0"
      ]
     },
     "execution_count": 19,
     "metadata": {},
     "output_type": "execute_result"
    }
   ],
   "source": [
    "(3**2)**0.5"
   ]
  },
  {
   "cell_type": "code",
   "execution_count": 20,
   "metadata": {
    "colab": {
     "base_uri": "https://localhost:8080/"
    },
    "executionInfo": {
     "elapsed": 235,
     "status": "ok",
     "timestamp": 1631446978471,
     "user": {
      "displayName": "Yonghee Lee",
      "photoUrl": "https://lh3.googleusercontent.com/a-/AOh14GhAdQHSNVWnNOcFlUVngZa1OBgaG7xdUrznR__gdg=s64",
      "userId": "10559206703728046520"
     },
     "user_tz": -540
    },
    "id": "GlPPAmCwiXwR",
    "outputId": "1d8c6d67-4da0-4910-b69f-c887fdf6e62f"
   },
   "outputs": [
    {
     "data": {
      "text/plain": [
       "-4.440892098500626e-16"
      ]
     },
     "execution_count": 20,
     "metadata": {},
     "output_type": "execute_result"
    }
   ],
   "source": [
    "(3**0.5)**2 - (3**2)**0.5"
   ]
  },
  {
   "cell_type": "markdown",
   "metadata": {
    "id": "IIAatmOol9vh"
   },
   "source": [
    "파이썬이 대수적으로 구별할 수 있는 가장 작은 수는 `2.220446049250313e-16` 이다. 이러한 수를 계산 엡실론(Machine epsilon)이러고 부르며 부동소수점 연산에서 반올림을 함으로써 발생하는 오차의 상한이다. 파이썬의 계산 엡실론은 `sys.float_info.epsilon` 으로 알 수 있다.\n",
    "\n",
    "계산 엡실론보다 작은 수는 컴퓨터를 이용한 계산에서 차이를 구별할 수 없다. "
   ]
  },
  {
   "cell_type": "code",
   "execution_count": 21,
   "metadata": {
    "colab": {
     "base_uri": "https://localhost:8080/"
    },
    "executionInfo": {
     "elapsed": 287,
     "status": "ok",
     "timestamp": 1631446996590,
     "user": {
      "displayName": "Yonghee Lee",
      "photoUrl": "https://lh3.googleusercontent.com/a-/AOh14GhAdQHSNVWnNOcFlUVngZa1OBgaG7xdUrznR__gdg=s64",
      "userId": "10559206703728046520"
     },
     "user_tz": -540
    },
    "id": "kELZ9aYDju7z",
    "outputId": "83d037f8-1bed-46d2-8c3f-f659d2e3a8de"
   },
   "outputs": [
    {
     "data": {
      "text/plain": [
       "2.220446049250313e-16"
      ]
     },
     "execution_count": 21,
     "metadata": {},
     "output_type": "execute_result"
    }
   ],
   "source": [
    "machine_epsilon = sys.float_info.epsilon\n",
    "machine_epsilon"
   ]
  },
  {
   "cell_type": "code",
   "execution_count": 22,
   "metadata": {
    "colab": {
     "base_uri": "https://localhost:8080/"
    },
    "executionInfo": {
     "elapsed": 241,
     "status": "ok",
     "timestamp": 1631446999763,
     "user": {
      "displayName": "Yonghee Lee",
      "photoUrl": "https://lh3.googleusercontent.com/a-/AOh14GhAdQHSNVWnNOcFlUVngZa1OBgaG7xdUrznR__gdg=s64",
      "userId": "10559206703728046520"
     },
     "user_tz": -540
    },
    "id": "U3sKeNoUln0G",
    "outputId": "df2fe58a-6b8f-49bf-8b88-9428dbebe3a3"
   },
   "outputs": [
    {
     "data": {
      "text/plain": [
       "False"
      ]
     },
     "execution_count": 22,
     "metadata": {},
     "output_type": "execute_result"
    }
   ],
   "source": [
    "1.0 + machine_epsilon == 1.0"
   ]
  },
  {
   "cell_type": "code",
   "execution_count": 23,
   "metadata": {
    "colab": {
     "base_uri": "https://localhost:8080/"
    },
    "executionInfo": {
     "elapsed": 246,
     "status": "ok",
     "timestamp": 1631447002137,
     "user": {
      "displayName": "Yonghee Lee",
      "photoUrl": "https://lh3.googleusercontent.com/a-/AOh14GhAdQHSNVWnNOcFlUVngZa1OBgaG7xdUrznR__gdg=s64",
      "userId": "10559206703728046520"
     },
     "user_tz": -540
    },
    "id": "K9mOZ2duhhlG",
    "outputId": "01073cc7-b9f7-42d4-d3dd-e7fd21f4654c"
   },
   "outputs": [
    {
     "data": {
      "text/plain": [
       "True"
      ]
     },
     "execution_count": 23,
     "metadata": {},
     "output_type": "execute_result"
    }
   ],
   "source": [
    "1.0 + machine_epsilon/2 == 1.0"
   ]
  },
  {
   "cell_type": "markdown",
   "metadata": {
    "id": "EdfW-erlnOLe"
   },
   "source": [
    "정리하면 실수를 저장하는 `float` 형식은 모든 실수를 정확하게 저장할 수 없고 아주 작은 수는 소수점 16 정도에서 잘려서 **근사값**으로 저장된다.\n",
    "\n",
    "예를 들어 원주율을 나타내는 $\\pi$ 는 `math` 라이브러리에 `pi` 라는 이름으로 사용할 수 있으며 다음과 같이 소수점 16 자리까지 저장한다. "
   ]
  },
  {
   "cell_type": "code",
   "execution_count": 24,
   "metadata": {
    "colab": {
     "base_uri": "https://localhost:8080/"
    },
    "executionInfo": {
     "elapsed": 237,
     "status": "ok",
     "timestamp": 1631447057512,
     "user": {
      "displayName": "Yonghee Lee",
      "photoUrl": "https://lh3.googleusercontent.com/a-/AOh14GhAdQHSNVWnNOcFlUVngZa1OBgaG7xdUrznR__gdg=s64",
      "userId": "10559206703728046520"
     },
     "user_tz": -540
    },
    "id": "3EWkYt9reNlZ",
    "outputId": "f200953f-670c-4c8c-a2a0-63cf9c826179"
   },
   "outputs": [
    {
     "data": {
      "text/plain": [
       "3.141592653589793"
      ]
     },
     "execution_count": 24,
     "metadata": {},
     "output_type": "execute_result"
    }
   ],
   "source": [
    "math.pi"
   ]
  },
  {
   "cell_type": "markdown",
   "metadata": {
    "id": "82Fve2rm1JY2"
   },
   "source": [
    "또한 부동소수점 형식은 너무 큰 수도 저장할 수 없다. 여러분이 사용하는 컴퓨터에서 부동소수점 형식으로 저장할 수 있는 최대값은 $1.7976931348623157 \\times 10^{308}$ 이다.\n",
    "\n",
    "파이썬에서 큰 수를 출력해주는 경우 과학적 표기법(scientific notation)을 사용한다. 아래 식에서 `2.0e+306`는 $2.0 \\times 10^{306}$ 을 의미한다. 큰 수 $2.0 \\times 10^{308}$ 은 파이썬의 부동소수점 형식으로 저장할 수 없기 때문에 결과를 `inf` 로 나타낸다.  "
   ]
  },
  {
   "cell_type": "code",
   "execution_count": 25,
   "metadata": {
    "colab": {
     "base_uri": "https://localhost:8080/"
    },
    "executionInfo": {
     "elapsed": 271,
     "status": "ok",
     "timestamp": 1631447086333,
     "user": {
      "displayName": "Yonghee Lee",
      "photoUrl": "https://lh3.googleusercontent.com/a-/AOh14GhAdQHSNVWnNOcFlUVngZa1OBgaG7xdUrznR__gdg=s64",
      "userId": "10559206703728046520"
     },
     "user_tz": -540
    },
    "id": "yY1tGZwa2g8N",
    "outputId": "9231db30-3cc1-4cef-83d5-4d8077bcf219"
   },
   "outputs": [
    {
     "data": {
      "text/plain": [
       "2e+306"
      ]
     },
     "execution_count": 25,
     "metadata": {},
     "output_type": "execute_result"
    }
   ],
   "source": [
    "2.0e+306"
   ]
  },
  {
   "cell_type": "code",
   "execution_count": 26,
   "metadata": {
    "id": "fRiTu6AS0Zb-"
   },
   "outputs": [
    {
     "data": {
      "text/plain": [
       "inf"
      ]
     },
     "execution_count": 26,
     "metadata": {},
     "output_type": "execute_result"
    }
   ],
   "source": [
    "2.0e306 * 100"
   ]
  },
  {
   "cell_type": "code",
   "execution_count": 27,
   "metadata": {
    "id": "zRiMMiYy2Ny6"
   },
   "outputs": [
    {
     "data": {
      "text/plain": [
       "-inf"
      ]
     },
     "execution_count": 27,
     "metadata": {},
     "output_type": "execute_result"
    }
   ],
   "source": [
    "-2.0e306 * 100"
   ]
  },
  {
   "cell_type": "markdown",
   "metadata": {
    "id": "ZFq1cp2C5oSc"
   },
   "source": [
    "지금까지 숫자를 저장할 수 있는  두 가지 자료 형식을 알아보았다. 또한 부동소수점으로 저장할 수 있는 실수의 범위는 제약이 있음에 유의하자.\n",
    "\n",
    "**이러한 제약으로 문제가 발생하는 경우는 자주 일어나지만, 이 과목의 범위 안에서는 부동소수점의 제약으로 인한 문제는 발생하지 않을 것이니 잠시 이 사실은 잊고 있어도 된다.** "
   ]
  },
  {
   "cell_type": "code",
   "execution_count": null,
   "metadata": {
    "id": "F5UpW_t6pWYa"
   },
   "outputs": [],
   "source": []
  }
 ],
 "metadata": {
  "colab": {
   "authorship_tag": "ABX9TyOrtS8otXgNxAC89gsOFAqk",
   "name": "numbers.ipynb",
   "provenance": []
  },
  "interpreter": {
   "hash": "3c743bb9761483425747f572da09963146dc6d92679c768be5abee3553babfe7"
  },
  "kernelspec": {
   "display_name": "Python 3.8.10 64-bit (conda)",
   "name": "python3"
  },
  "language_info": {
   "codemirror_mode": {
    "name": "ipython",
    "version": 3
   },
   "file_extension": ".py",
   "mimetype": "text/x-python",
   "name": "python",
   "nbconvert_exporter": "python",
   "pygments_lexer": "ipython3",
   "version": "3.9.12"
  }
 },
 "nbformat": 4,
 "nbformat_minor": 2
}