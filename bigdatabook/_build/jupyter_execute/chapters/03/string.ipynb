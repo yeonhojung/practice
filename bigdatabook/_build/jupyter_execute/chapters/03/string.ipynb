{
 "cells": [
  {
   "cell_type": "markdown",
   "metadata": {
    "id": "tG-OcBbXqAV3"
   },
   "source": [
    "# 문자열\n",
    "\n",
    "우리가 평소에 접하는 모든 정보는 대부분 문자들이다. 책을 읽거나 대화를 하거나, 모든 일상에서 우리가 보고, 듣고, 말하는 정보는 대부분 문자로 구성된다.\n",
    "\n",
    "파이썬에서 문자를 저장하는 형식은 **문자열(`str`)** 이라고 부른다. 문자열은 문자들의 조합이다."
   ]
  },
  {
   "cell_type": "markdown",
   "metadata": {
    "id": "ycU49H8b1vDw"
   },
   "source": [
    "## 문자열의 표현식"
   ]
  },
  {
   "cell_type": "markdown",
   "metadata": {
    "id": "GiOgBD4JrU3C"
   },
   "source": [
    "문자열의 정의는 아래와 같이 ' ' 와 \" \" 로 모두 정의할 수 있다. 예를 들면 `\"apple\"` 과 `'apple'` 은 똑같이 문자열을 정의한다."
   ]
  },
  {
   "cell_type": "code",
   "execution_count": 1,
   "metadata": {
    "colab": {
     "base_uri": "https://localhost:8080/",
     "height": 35
    },
    "executionInfo": {
     "elapsed": 5,
     "status": "ok",
     "timestamp": 1631447213350,
     "user": {
      "displayName": "Yonghee Lee",
      "photoUrl": "https://lh3.googleusercontent.com/a-/AOh14GhAdQHSNVWnNOcFlUVngZa1OBgaG7xdUrznR__gdg=s64",
      "userId": "10559206703728046520"
     },
     "user_tz": -540
    },
    "id": "ReETSiPzp90J",
    "outputId": "d5cf99b4-848a-478a-81aa-3d3ed6262688"
   },
   "outputs": [
    {
     "data": {
      "text/plain": [
       "'철수'"
      ]
     },
     "execution_count": 1,
     "metadata": {},
     "output_type": "execute_result"
    }
   ],
   "source": [
    "name_1 = '철수'\n",
    "name_1"
   ]
  },
  {
   "cell_type": "code",
   "execution_count": 2,
   "metadata": {
    "colab": {
     "base_uri": "https://localhost:8080/"
    },
    "executionInfo": {
     "elapsed": 260,
     "status": "ok",
     "timestamp": 1631447214990,
     "user": {
      "displayName": "Yonghee Lee",
      "photoUrl": "https://lh3.googleusercontent.com/a-/AOh14GhAdQHSNVWnNOcFlUVngZa1OBgaG7xdUrznR__gdg=s64",
      "userId": "10559206703728046520"
     },
     "user_tz": -540
    },
    "id": "SmoaITMI2F1p",
    "outputId": "d4da93d6-4fbb-4a82-984a-1e92b7487269"
   },
   "outputs": [
    {
     "data": {
      "text/plain": [
       "str"
      ]
     },
     "execution_count": 2,
     "metadata": {},
     "output_type": "execute_result"
    }
   ],
   "source": [
    "type(name_1)"
   ]
  },
  {
   "cell_type": "code",
   "execution_count": 3,
   "metadata": {
    "colab": {
     "base_uri": "https://localhost:8080/",
     "height": 35
    },
    "executionInfo": {
     "elapsed": 274,
     "status": "ok",
     "timestamp": 1631447217595,
     "user": {
      "displayName": "Yonghee Lee",
      "photoUrl": "https://lh3.googleusercontent.com/a-/AOh14GhAdQHSNVWnNOcFlUVngZa1OBgaG7xdUrznR__gdg=s64",
      "userId": "10559206703728046520"
     },
     "user_tz": -540
    },
    "id": "u8cy3GUAp-xL",
    "outputId": "d03e19f0-5e8d-490c-fd31-e42bc7b0583c"
   },
   "outputs": [
    {
     "data": {
      "text/plain": [
       "'apple'"
      ]
     },
     "execution_count": 3,
     "metadata": {},
     "output_type": "execute_result"
    }
   ],
   "source": [
    "thing_1 = \"apple\"\n",
    "thing_1"
   ]
  },
  {
   "cell_type": "code",
   "execution_count": 4,
   "metadata": {
    "colab": {
     "base_uri": "https://localhost:8080/",
     "height": 35
    },
    "executionInfo": {
     "elapsed": 261,
     "status": "ok",
     "timestamp": 1631447219317,
     "user": {
      "displayName": "Yonghee Lee",
      "photoUrl": "https://lh3.googleusercontent.com/a-/AOh14GhAdQHSNVWnNOcFlUVngZa1OBgaG7xdUrznR__gdg=s64",
      "userId": "10559206703728046520"
     },
     "user_tz": -540
    },
    "id": "IXs6c_rErq3Q",
    "outputId": "ac4a1ea1-cad2-4839-9a85-047f69facc8a"
   },
   "outputs": [
    {
     "data": {
      "text/plain": [
       "'eat'"
      ]
     },
     "execution_count": 4,
     "metadata": {},
     "output_type": "execute_result"
    }
   ],
   "source": [
    "action_1 = \"eat\"\n",
    "action_1"
   ]
  },
  {
   "cell_type": "code",
   "execution_count": 5,
   "metadata": {
    "colab": {
     "base_uri": "https://localhost:8080/",
     "height": 35
    },
    "executionInfo": {
     "elapsed": 253,
     "status": "ok",
     "timestamp": 1631447221026,
     "user": {
      "displayName": "Yonghee Lee",
      "photoUrl": "https://lh3.googleusercontent.com/a-/AOh14GhAdQHSNVWnNOcFlUVngZa1OBgaG7xdUrznR__gdg=s64",
      "userId": "10559206703728046520"
     },
     "user_tz": -540
    },
    "id": "veOfXWl5tUDZ",
    "outputId": "8549f54a-40b2-4a99-cf12-fa3c39fdf965"
   },
   "outputs": [
    {
     "data": {
      "text/plain": [
       "'buy'"
      ]
     },
     "execution_count": 5,
     "metadata": {},
     "output_type": "execute_result"
    }
   ],
   "source": [
    "action_2 = 'buy'\n",
    "action_2"
   ]
  },
  {
   "cell_type": "markdown",
   "metadata": {
    "id": "FqnvirmJsAaw"
   },
   "source": [
    "문자열로 정의된 변수(이름)을 더하기 `+` 연산자로 조합하여 여러 개의 문자열을 연결할 수 있다."
   ]
  },
  {
   "cell_type": "code",
   "execution_count": 6,
   "metadata": {
    "colab": {
     "base_uri": "https://localhost:8080/",
     "height": 35
    },
    "executionInfo": {
     "elapsed": 4,
     "status": "ok",
     "timestamp": 1631447223281,
     "user": {
      "displayName": "Yonghee Lee",
      "photoUrl": "https://lh3.googleusercontent.com/a-/AOh14GhAdQHSNVWnNOcFlUVngZa1OBgaG7xdUrznR__gdg=s64",
      "userId": "10559206703728046520"
     },
     "user_tz": -540
    },
    "id": "7OhgtyZVr_Lw",
    "outputId": "e432180d-8819-4a54-fb2f-d0cb3c8569fd"
   },
   "outputs": [
    {
     "data": {
      "text/plain": [
       "'철수eatapple'"
      ]
     },
     "execution_count": 6,
     "metadata": {},
     "output_type": "execute_result"
    }
   ],
   "source": [
    "name_1 + action_1 + thing_1"
   ]
  },
  {
   "cell_type": "code",
   "execution_count": 7,
   "metadata": {
    "colab": {
     "base_uri": "https://localhost:8080/",
     "height": 35
    },
    "executionInfo": {
     "elapsed": 254,
     "status": "ok",
     "timestamp": 1631447225758,
     "user": {
      "displayName": "Yonghee Lee",
      "photoUrl": "https://lh3.googleusercontent.com/a-/AOh14GhAdQHSNVWnNOcFlUVngZa1OBgaG7xdUrznR__gdg=s64",
      "userId": "10559206703728046520"
     },
     "user_tz": -540
    },
    "id": "cxVpetpusWQx",
    "outputId": "43d82731-aacb-4851-d835-ebd8e80c04f0"
   },
   "outputs": [
    {
     "data": {
      "text/plain": [
       "'철수 eats apple'"
      ]
     },
     "execution_count": 7,
     "metadata": {},
     "output_type": "execute_result"
    }
   ],
   "source": [
    "name_1 + ' ' + action_1 + 's ' + thing_1"
   ]
  },
  {
   "cell_type": "markdown",
   "metadata": {
    "id": "3CIdLtpguUpN"
   },
   "source": [
    "곱하기 `*` 연산자를 이용하면 문자열을 반복할 수 있다."
   ]
  },
  {
   "cell_type": "code",
   "execution_count": 8,
   "metadata": {
    "colab": {
     "base_uri": "https://localhost:8080/",
     "height": 35
    },
    "executionInfo": {
     "elapsed": 262,
     "status": "ok",
     "timestamp": 1631447228194,
     "user": {
      "displayName": "Yonghee Lee",
      "photoUrl": "https://lh3.googleusercontent.com/a-/AOh14GhAdQHSNVWnNOcFlUVngZa1OBgaG7xdUrznR__gdg=s64",
      "userId": "10559206703728046520"
     },
     "user_tz": -540
    },
    "id": "pmysiSUxsgL1",
    "outputId": "e656a452-04c9-464b-aff6-a070bd7fe460"
   },
   "outputs": [
    {
     "data": {
      "text/plain": [
       "'철수철수철수'"
      ]
     },
     "execution_count": 8,
     "metadata": {},
     "output_type": "execute_result"
    }
   ],
   "source": [
    "name_1*3"
   ]
  },
  {
   "cell_type": "markdown",
   "metadata": {
    "id": "TPmAo77u0rDL"
   },
   "source": [
    "앞에서 문자열이 보여질 때 작은 따옴표 `'...'` 로 묶어진 내용이 나타난다. 작은 따옴표 `'`는 문자열이라는 사실을 나타내는 것으로 실제로 문자열의 내용만 보여줄 경우 `print()` 를 사용한다. `print()` 는 함수(function)라고 부르며 괄호 안에 주어진 문자열이나 변수의 내용을 출력하는 기능을 가진다.\n",
    "\n"
   ]
  },
  {
   "cell_type": "code",
   "execution_count": 9,
   "metadata": {
    "colab": {
     "base_uri": "https://localhost:8080/"
    },
    "executionInfo": {
     "elapsed": 257,
     "status": "ok",
     "timestamp": 1631447261062,
     "user": {
      "displayName": "Yonghee Lee",
      "photoUrl": "https://lh3.googleusercontent.com/a-/AOh14GhAdQHSNVWnNOcFlUVngZa1OBgaG7xdUrznR__gdg=s64",
      "userId": "10559206703728046520"
     },
     "user_tz": -540
    },
    "id": "z2bY115502qt",
    "outputId": "1bc97034-8c22-4dd4-e84e-bd022c314312"
   },
   "outputs": [
    {
     "name": "stdout",
     "output_type": "stream",
     "text": [
      "철수 eats apple\n"
     ]
    }
   ],
   "source": [
    "print(name_1 + ' ' + action_1 + 's ' + thing_1)"
   ]
  },
  {
   "cell_type": "markdown",
   "metadata": {
    "id": "AclE1A-nzMvL"
   },
   "source": [
    "문자열 안에 작은 따옴표 `'` 가 있는 경우 큰 따옴표 `\"` 로 정의하면 문제가 없지만 작은 따옴표로 정의하는 경우 문자열의 시작과 끝이 구별이 되지 않기 때문에 역슬래쉬 `\\` 로 아래와 같이 보호해준다.\n",
    "\n"
   ]
  },
  {
   "cell_type": "code",
   "execution_count": 10,
   "metadata": {
    "colab": {
     "base_uri": "https://localhost:8080/",
     "height": 35
    },
    "executionInfo": {
     "elapsed": 243,
     "status": "ok",
     "timestamp": 1631447274101,
     "user": {
      "displayName": "Yonghee Lee",
      "photoUrl": "https://lh3.googleusercontent.com/a-/AOh14GhAdQHSNVWnNOcFlUVngZa1OBgaG7xdUrznR__gdg=s64",
      "userId": "10559206703728046520"
     },
     "user_tz": -540
    },
    "id": "G7ZzC-xquf3T",
    "outputId": "6a810dfb-66f2-481e-894d-e527d9f1b91a"
   },
   "outputs": [
    {
     "data": {
      "text/plain": [
       "\"I can't go\""
      ]
     },
     "execution_count": 10,
     "metadata": {},
     "output_type": "execute_result"
    }
   ],
   "source": [
    "text_1 = \"I can't go\"\n",
    "text_1"
   ]
  },
  {
   "cell_type": "code",
   "execution_count": 11,
   "metadata": {
    "colab": {
     "base_uri": "https://localhost:8080/",
     "height": 35
    },
    "executionInfo": {
     "elapsed": 245,
     "status": "ok",
     "timestamp": 1631447277706,
     "user": {
      "displayName": "Yonghee Lee",
      "photoUrl": "https://lh3.googleusercontent.com/a-/AOh14GhAdQHSNVWnNOcFlUVngZa1OBgaG7xdUrznR__gdg=s64",
      "userId": "10559206703728046520"
     },
     "user_tz": -540
    },
    "id": "QrNI_JfszZXN",
    "outputId": "8038fdef-2e19-4485-d8df-e56105212830"
   },
   "outputs": [
    {
     "data": {
      "text/plain": [
       "\"you can't come\""
      ]
     },
     "execution_count": 11,
     "metadata": {},
     "output_type": "execute_result"
    }
   ],
   "source": [
    "text_2 ='you can\\'t come'\n",
    "text_2"
   ]
  },
  {
   "cell_type": "markdown",
   "metadata": {
    "id": "janF5m4Ezwdg"
   },
   "source": [
    "물론 큰 따옴표가 문자열에 있는 경우도 역슬래쉬 `\\` 로 보호해주어야 한다."
   ]
  },
  {
   "cell_type": "code",
   "execution_count": 12,
   "metadata": {
    "colab": {
     "base_uri": "https://localhost:8080/",
     "height": 35
    },
    "executionInfo": {
     "elapsed": 256,
     "status": "ok",
     "timestamp": 1631447280497,
     "user": {
      "displayName": "Yonghee Lee",
      "photoUrl": "https://lh3.googleusercontent.com/a-/AOh14GhAdQHSNVWnNOcFlUVngZa1OBgaG7xdUrznR__gdg=s64",
      "userId": "10559206703728046520"
     },
     "user_tz": -540
    },
    "id": "3kJpxUjKzf6n",
    "outputId": "c4662377-8fc0-4a6e-816a-69009fdda832"
   },
   "outputs": [
    {
     "data": {
      "text/plain": [
       "'He said \"yes\"'"
      ]
     },
     "execution_count": 12,
     "metadata": {},
     "output_type": "execute_result"
    }
   ],
   "source": [
    "text_3 = \"He said \\\"yes\\\"\"\n",
    "text_3"
   ]
  },
  {
   "cell_type": "markdown",
   "metadata": {
    "id": "WrUz1epNzmVw"
   },
   "source": [
    "주의할 점은 역슬래쉬 `\\`로 시작하는 특별한 문자열은 특수한 기능을 가진다. 이러한 특수한 기능을 가진 특수 문자열(escape sequence)라고 부른다.\n",
    "\n",
    "예를 들어 문자열 안에 \\n 이 나타나면 줄을 바꾸는 기능(newline)한다. 따라서 다음과 같이 컴퓨터의 디렉토리를 지정하는 문자열은 \\n 때문에 출력하면 다음 줄로 넘어가게 된다.\n",
    "\n"
   ]
  },
  {
   "cell_type": "code",
   "execution_count": 13,
   "metadata": {
    "colab": {
     "base_uri": "https://localhost:8080/",
     "height": 35
    },
    "executionInfo": {
     "elapsed": 320,
     "status": "ok",
     "timestamp": 1631447286496,
     "user": {
      "displayName": "Yonghee Lee",
      "photoUrl": "https://lh3.googleusercontent.com/a-/AOh14GhAdQHSNVWnNOcFlUVngZa1OBgaG7xdUrznR__gdg=s64",
      "userId": "10559206703728046520"
     },
     "user_tz": -540
    },
    "id": "QsACENojzk63",
    "outputId": "8a77df36-61c5-4468-a1b0-32c0aa833985"
   },
   "outputs": [
    {
     "data": {
      "text/plain": [
       "'첫 번째 줄 \\n두 번째 줄'"
      ]
     },
     "execution_count": 13,
     "metadata": {},
     "output_type": "execute_result"
    }
   ],
   "source": [
    "\"첫 번째 줄 \\n두 번째 줄\""
   ]
  },
  {
   "cell_type": "code",
   "execution_count": 14,
   "metadata": {
    "colab": {
     "base_uri": "https://localhost:8080/"
    },
    "executionInfo": {
     "elapsed": 244,
     "status": "ok",
     "timestamp": 1631447290092,
     "user": {
      "displayName": "Yonghee Lee",
      "photoUrl": "https://lh3.googleusercontent.com/a-/AOh14GhAdQHSNVWnNOcFlUVngZa1OBgaG7xdUrznR__gdg=s64",
      "userId": "10559206703728046520"
     },
     "user_tz": -540
    },
    "id": "9UdoXTs_0Ki6",
    "outputId": "a5cc6dfa-bcd0-45db-b860-d91bd9fe26cb"
   },
   "outputs": [
    {
     "name": "stdout",
     "output_type": "stream",
     "text": [
      "첫 번째 줄 \n",
      "두 번째 줄\n"
     ]
    }
   ],
   "source": [
    "print(\"첫 번째 줄 \\n두 번째 줄\")"
   ]
  },
  {
   "cell_type": "markdown",
   "metadata": {
    "id": "nYjEs6dN0cQF"
   },
   "source": [
    "특수 문자열이 주어진 기능을 하지 못하게 하는 방법은 문자열을 정의할 때 `r` 로 시작하면 된다."
   ]
  },
  {
   "cell_type": "code",
   "execution_count": 15,
   "metadata": {
    "colab": {
     "base_uri": "https://localhost:8080/"
    },
    "executionInfo": {
     "elapsed": 242,
     "status": "ok",
     "timestamp": 1631447295596,
     "user": {
      "displayName": "Yonghee Lee",
      "photoUrl": "https://lh3.googleusercontent.com/a-/AOh14GhAdQHSNVWnNOcFlUVngZa1OBgaG7xdUrznR__gdg=s64",
      "userId": "10559206703728046520"
     },
     "user_tz": -540
    },
    "id": "fYo8q_6T0bQz",
    "outputId": "99f44a89-1891-4c42-a9b9-e0c3b74f641d"
   },
   "outputs": [
    {
     "name": "stdout",
     "output_type": "stream",
     "text": [
      "C:\\some\\name\n"
     ]
    }
   ],
   "source": [
    "text_4 = r'C:\\some\\name'\n",
    "print(text_4)"
   ]
  },
  {
   "cell_type": "markdown",
   "metadata": {
    "id": "Rx0k5JqCDkRj"
   },
   "source": [
    "문자열도 숫자와 마찬가지로 비교 연산자를 적용하여 순서를 비교할 수 있습니다. "
   ]
  },
  {
   "cell_type": "code",
   "execution_count": 16,
   "metadata": {
    "colab": {
     "base_uri": "https://localhost:8080/"
    },
    "executionInfo": {
     "elapsed": 252,
     "status": "ok",
     "timestamp": 1631447298920,
     "user": {
      "displayName": "Yonghee Lee",
      "photoUrl": "https://lh3.googleusercontent.com/a-/AOh14GhAdQHSNVWnNOcFlUVngZa1OBgaG7xdUrznR__gdg=s64",
      "userId": "10559206703728046520"
     },
     "user_tz": -540
    },
    "id": "1xc6uGrMDuj-",
    "outputId": "f18ce313-f085-436f-dd95-b43075ddc8ed"
   },
   "outputs": [
    {
     "data": {
      "text/plain": [
       "True"
      ]
     },
     "execution_count": 16,
     "metadata": {},
     "output_type": "execute_result"
    }
   ],
   "source": [
    "'A' < 'B'"
   ]
  },
  {
   "cell_type": "code",
   "execution_count": 17,
   "metadata": {
    "colab": {
     "base_uri": "https://localhost:8080/"
    },
    "executionInfo": {
     "elapsed": 248,
     "status": "ok",
     "timestamp": 1631447301521,
     "user": {
      "displayName": "Yonghee Lee",
      "photoUrl": "https://lh3.googleusercontent.com/a-/AOh14GhAdQHSNVWnNOcFlUVngZa1OBgaG7xdUrznR__gdg=s64",
      "userId": "10559206703728046520"
     },
     "user_tz": -540
    },
    "id": "wr37zeBpDuoN",
    "outputId": "6d99fa34-c42d-4eb7-acda-ac2adf188c43"
   },
   "outputs": [
    {
     "data": {
      "text/plain": [
       "False"
      ]
     },
     "execution_count": 17,
     "metadata": {},
     "output_type": "execute_result"
    }
   ],
   "source": [
    "'김철수' > '이영희'"
   ]
  },
  {
   "cell_type": "code",
   "execution_count": 18,
   "metadata": {
    "colab": {
     "base_uri": "https://localhost:8080/"
    },
    "executionInfo": {
     "elapsed": 257,
     "status": "ok",
     "timestamp": 1631447307138,
     "user": {
      "displayName": "Yonghee Lee",
      "photoUrl": "https://lh3.googleusercontent.com/a-/AOh14GhAdQHSNVWnNOcFlUVngZa1OBgaG7xdUrznR__gdg=s64",
      "userId": "10559206703728046520"
     },
     "user_tz": -540
    },
    "id": "sB6kN97UD40Z",
    "outputId": "3843f00a-e9b6-4754-d55d-a3350d8299e7"
   },
   "outputs": [
    {
     "data": {
      "text/plain": [
       "True"
      ]
     },
     "execution_count": 18,
     "metadata": {},
     "output_type": "execute_result"
    }
   ],
   "source": [
    "'Apple' < 'apple' # 대문자가 소문자보다 순서가 앞이다."
   ]
  },
  {
   "cell_type": "markdown",
   "metadata": {
    "id": "lX7jmNTk124L"
   },
   "source": [
    "## 부분 문자열과 메소드\n",
    "\n",
    "문자열을 다루다 보면 주어진 문자열을 이용하여 다른 문자열을 만들어야 하는 경우가 있다."
   ]
  },
  {
   "cell_type": "markdown",
   "metadata": {
    "id": "m6yClK2--7b5"
   },
   "source": [
    "예를 들어, 성과 이름이 같이 있는 문자열에서 성과 이름만 포함한 문자열을 새로 만들어 보자. 다음과 같이 전체 문자열에서 원하는 문자열의 위치를 지정해 주면 문자열의 일부분만 추출할 수 있다. \n",
    "\n",
    "```\n",
    "str[start:end]\n",
    "```\n",
    "\n",
    "이 경우 주의해야할 점은 다음과 같다.\n",
    "- 파이썬에서는 시작의 위치가 0 이다.\n",
    "- `start` 는 문자의 순서에서 시작 위치를 나타낸다. \n",
    "- `end`는 문자의 순서에서 끝나는 위치가 `end-1` 이라는 의미이다..\n",
    "- 시작과 끝의 위치가 정해지면 `:` 으로 묶고 `[]` 안에 넣어서 문자열 뒤에 붙여준다.\n",
    "\n",
    "아래 예에서 문자열 `이철수` 에서 첫 번째 문자를 지정하는 형식은 문자열 이름 뒤에 `[0]`을 붙인다.\n",
    "\n",
    "이름을 나타내는 `철수` 문자열은 위치를 지정할 때 `start` 은 1, `end`은 3 으로 지정해야 한다.즉 문자열 뒤에 `[1:3]` 을 붙여준다.  "
   ]
  },
  {
   "cell_type": "code",
   "execution_count": 19,
   "metadata": {
    "executionInfo": {
     "elapsed": 255,
     "status": "ok",
     "timestamp": 1631447741099,
     "user": {
      "displayName": "Yonghee Lee",
      "photoUrl": "https://lh3.googleusercontent.com/a-/AOh14GhAdQHSNVWnNOcFlUVngZa1OBgaG7xdUrznR__gdg=s64",
      "userId": "10559206703728046520"
     },
     "user_tz": -540
    },
    "id": "6DwucChW0Uin"
   },
   "outputs": [],
   "source": [
    "name_3 = '이철수'"
   ]
  },
  {
   "cell_type": "code",
   "execution_count": 20,
   "metadata": {
    "colab": {
     "base_uri": "https://localhost:8080/",
     "height": 35
    },
    "executionInfo": {
     "elapsed": 4,
     "status": "ok",
     "timestamp": 1631447742296,
     "user": {
      "displayName": "Yonghee Lee",
      "photoUrl": "https://lh3.googleusercontent.com/a-/AOh14GhAdQHSNVWnNOcFlUVngZa1OBgaG7xdUrznR__gdg=s64",
      "userId": "10559206703728046520"
     },
     "user_tz": -540
    },
    "id": "Qu2MrSE78X9D",
    "outputId": "2e752fe5-c779-45ef-99a1-febdf0686afe"
   },
   "outputs": [
    {
     "data": {
      "text/plain": [
       "'이'"
      ]
     },
     "execution_count": 20,
     "metadata": {},
     "output_type": "execute_result"
    }
   ],
   "source": [
    "name_3[0]"
   ]
  },
  {
   "cell_type": "code",
   "execution_count": 21,
   "metadata": {
    "colab": {
     "base_uri": "https://localhost:8080/",
     "height": 35
    },
    "executionInfo": {
     "elapsed": 3,
     "status": "ok",
     "timestamp": 1631447743252,
     "user": {
      "displayName": "Yonghee Lee",
      "photoUrl": "https://lh3.googleusercontent.com/a-/AOh14GhAdQHSNVWnNOcFlUVngZa1OBgaG7xdUrznR__gdg=s64",
      "userId": "10559206703728046520"
     },
     "user_tz": -540
    },
    "id": "Q8hcMUmn8apK",
    "outputId": "5ded5da0-740f-42be-d864-b746d4cf9969"
   },
   "outputs": [
    {
     "data": {
      "text/plain": [
       "'철수'"
      ]
     },
     "execution_count": 21,
     "metadata": {},
     "output_type": "execute_result"
    }
   ],
   "source": [
    "name_3[1:3] "
   ]
  },
  {
   "cell_type": "code",
   "execution_count": 22,
   "metadata": {
    "executionInfo": {
     "elapsed": 409,
     "status": "ok",
     "timestamp": 1631447744656,
     "user": {
      "displayName": "Yonghee Lee",
      "photoUrl": "https://lh3.googleusercontent.com/a-/AOh14GhAdQHSNVWnNOcFlUVngZa1OBgaG7xdUrznR__gdg=s64",
      "userId": "10559206703728046520"
     },
     "user_tz": -540
    },
    "id": "LGE6mCTr8inc"
   },
   "outputs": [],
   "source": [
    "name_4 = 'John Smith'"
   ]
  },
  {
   "cell_type": "code",
   "execution_count": 23,
   "metadata": {
    "colab": {
     "base_uri": "https://localhost:8080/",
     "height": 35
    },
    "executionInfo": {
     "elapsed": 4,
     "status": "ok",
     "timestamp": 1631447745690,
     "user": {
      "displayName": "Yonghee Lee",
      "photoUrl": "https://lh3.googleusercontent.com/a-/AOh14GhAdQHSNVWnNOcFlUVngZa1OBgaG7xdUrznR__gdg=s64",
      "userId": "10559206703728046520"
     },
     "user_tz": -540
    },
    "id": "6p2dRvVu_Nh9",
    "outputId": "a5f4284d-7dc6-4583-c647-69ace922dedd"
   },
   "outputs": [
    {
     "data": {
      "text/plain": [
       "'John'"
      ]
     },
     "execution_count": 23,
     "metadata": {},
     "output_type": "execute_result"
    }
   ],
   "source": [
    "name_4[0:4]"
   ]
  },
  {
   "cell_type": "code",
   "execution_count": 24,
   "metadata": {
    "colab": {
     "base_uri": "https://localhost:8080/",
     "height": 35
    },
    "executionInfo": {
     "elapsed": 3,
     "status": "ok",
     "timestamp": 1631447746705,
     "user": {
      "displayName": "Yonghee Lee",
      "photoUrl": "https://lh3.googleusercontent.com/a-/AOh14GhAdQHSNVWnNOcFlUVngZa1OBgaG7xdUrznR__gdg=s64",
      "userId": "10559206703728046520"
     },
     "user_tz": -540
    },
    "id": "pnPAMzqR_QN6",
    "outputId": "be103c1c-3f40-4b06-c0ec-c3a2bc1e9ec7"
   },
   "outputs": [
    {
     "data": {
      "text/plain": [
       "'Smith'"
      ]
     },
     "execution_count": 24,
     "metadata": {},
     "output_type": "execute_result"
    }
   ],
   "source": [
    "name_4[5:10]"
   ]
  },
  {
   "cell_type": "markdown",
   "metadata": {
    "id": "7jsWGQsl_df_"
   },
   "source": [
    "문자열을 다루는 경우 문자열 안에 있는 특정한 문자를 다른 문자로 대치할 경우가 있다. 이 경우 사용하는 방법이 문자열의 `replace` 메소드이다.\n",
    "\n",
    "메소드(method)는 특정한 형식을 가진 자료에 적용되는 기능을 의미한다. 메소드는 변수명 뒤에 따옴표 `.` 를 붙이고 특정한 이름 또는 함수를 붙여서 사용한다. \n",
    "\n",
    "아래 표현식은 문자열에 있는 `is` 를 `was` 로 바꾸어 준다."
   ]
  },
  {
   "cell_type": "code",
   "execution_count": 25,
   "metadata": {
    "colab": {
     "base_uri": "https://localhost:8080/",
     "height": 35
    },
    "executionInfo": {
     "elapsed": 288,
     "status": "ok",
     "timestamp": 1631447792764,
     "user": {
      "displayName": "Yonghee Lee",
      "photoUrl": "https://lh3.googleusercontent.com/a-/AOh14GhAdQHSNVWnNOcFlUVngZa1OBgaG7xdUrznR__gdg=s64",
      "userId": "10559206703728046520"
     },
     "user_tz": -540
    },
    "id": "Z98qW7p8_XNQ",
    "outputId": "4b0af153-7989-4cbc-f6c0-01e0a2559190"
   },
   "outputs": [
    {
     "data": {
      "text/plain": [
       "'There is a desk'"
      ]
     },
     "execution_count": 25,
     "metadata": {},
     "output_type": "execute_result"
    }
   ],
   "source": [
    "text_5 = 'There is a desk'\n",
    "text_5"
   ]
  },
  {
   "cell_type": "code",
   "execution_count": 26,
   "metadata": {
    "colab": {
     "base_uri": "https://localhost:8080/",
     "height": 35
    },
    "executionInfo": {
     "elapsed": 269,
     "status": "ok",
     "timestamp": 1631447794300,
     "user": {
      "displayName": "Yonghee Lee",
      "photoUrl": "https://lh3.googleusercontent.com/a-/AOh14GhAdQHSNVWnNOcFlUVngZa1OBgaG7xdUrznR__gdg=s64",
      "userId": "10559206703728046520"
     },
     "user_tz": -540
    },
    "id": "yuphOX4uAnm3",
    "outputId": "9178ed03-e1fa-4834-e260-a6271759ca04"
   },
   "outputs": [
    {
     "data": {
      "text/plain": [
       "'There was a desk'"
      ]
     },
     "execution_count": 26,
     "metadata": {},
     "output_type": "execute_result"
    }
   ],
   "source": [
    "text_5.replace('is', 'was')"
   ]
  },
  {
   "cell_type": "markdown",
   "metadata": {
    "id": "u8qPf7I5AxxT"
   },
   "source": [
    "이와 같이 메소드는 데이터에 특정한 작업을 적용하거나 성질을 보여주는 역활을 하며 기본적으로 제이터의 내용은 바꾸지 않는다.  "
   ]
  },
  {
   "cell_type": "code",
   "execution_count": 27,
   "metadata": {
    "colab": {
     "base_uri": "https://localhost:8080/",
     "height": 35
    },
    "executionInfo": {
     "elapsed": 269,
     "status": "ok",
     "timestamp": 1631447799493,
     "user": {
      "displayName": "Yonghee Lee",
      "photoUrl": "https://lh3.googleusercontent.com/a-/AOh14GhAdQHSNVWnNOcFlUVngZa1OBgaG7xdUrznR__gdg=s64",
      "userId": "10559206703728046520"
     },
     "user_tz": -540
    },
    "id": "qzJWGgnYArgS",
    "outputId": "34e8de1e-80d1-4f94-bd9f-cfb131e7572d"
   },
   "outputs": [
    {
     "data": {
      "text/plain": [
       "'There is a desk'"
      ]
     },
     "execution_count": 27,
     "metadata": {},
     "output_type": "execute_result"
    }
   ],
   "source": [
    "text_5"
   ]
  },
  {
   "cell_type": "markdown",
   "metadata": {
    "id": "rhYrzmQABPiV"
   },
   "source": [
    "메소드를 적용해서 데이터의 내용을 바꾸고 저장하려면 다른 변수로 저장해야 한다. "
   ]
  },
  {
   "cell_type": "code",
   "execution_count": 28,
   "metadata": {
    "colab": {
     "base_uri": "https://localhost:8080/",
     "height": 35
    },
    "executionInfo": {
     "elapsed": 255,
     "status": "ok",
     "timestamp": 1631447802539,
     "user": {
      "displayName": "Yonghee Lee",
      "photoUrl": "https://lh3.googleusercontent.com/a-/AOh14GhAdQHSNVWnNOcFlUVngZa1OBgaG7xdUrznR__gdg=s64",
      "userId": "10559206703728046520"
     },
     "user_tz": -540
    },
    "id": "_DXffHmMBoIK",
    "outputId": "7a5e65e1-66c4-40b0-8fb5-c9d5f9ad9ed3"
   },
   "outputs": [
    {
     "data": {
      "text/plain": [
       "'There was a desk'"
      ]
     },
     "execution_count": 28,
     "metadata": {},
     "output_type": "execute_result"
    }
   ],
   "source": [
    "text_6 = text_5.replace('is', 'was')\n",
    "text_6"
   ]
  },
  {
   "cell_type": "markdown",
   "metadata": {
    "id": "fosxRhYlCC1R"
   },
   "source": [
    "이제 문자열에 적용할 수 있는 다양한 메소드들 중에 유용한 몇 가지 메소드을 배워보자.  "
   ]
  },
  {
   "cell_type": "code",
   "execution_count": 29,
   "metadata": {
    "colab": {
     "base_uri": "https://localhost:8080/",
     "height": 35
    },
    "executionInfo": {
     "elapsed": 252,
     "status": "ok",
     "timestamp": 1631447806712,
     "user": {
      "displayName": "Yonghee Lee",
      "photoUrl": "https://lh3.googleusercontent.com/a-/AOh14GhAdQHSNVWnNOcFlUVngZa1OBgaG7xdUrznR__gdg=s64",
      "userId": "10559206703728046520"
     },
     "user_tz": -540
    },
    "id": "8zF9tV1vCSFG",
    "outputId": "4528b8c2-1009-4e0c-c3ba-4e2886a54861"
   },
   "outputs": [
    {
     "data": {
      "text/plain": [
       "'THERE IS A DESK'"
      ]
     },
     "execution_count": 29,
     "metadata": {},
     "output_type": "execute_result"
    }
   ],
   "source": [
    "text_5.upper() # 문자열을 모두 대문자로 "
   ]
  },
  {
   "cell_type": "code",
   "execution_count": 30,
   "metadata": {
    "colab": {
     "base_uri": "https://localhost:8080/"
    },
    "executionInfo": {
     "elapsed": 256,
     "status": "ok",
     "timestamp": 1631447809407,
     "user": {
      "displayName": "Yonghee Lee",
      "photoUrl": "https://lh3.googleusercontent.com/a-/AOh14GhAdQHSNVWnNOcFlUVngZa1OBgaG7xdUrznR__gdg=s64",
      "userId": "10559206703728046520"
     },
     "user_tz": -540
    },
    "id": "B40HQQKcCsGH",
    "outputId": "ff61de10-cbca-4fc1-8d63-61e193223bd4"
   },
   "outputs": [
    {
     "data": {
      "text/plain": [
       "3"
      ]
     },
     "execution_count": 30,
     "metadata": {},
     "output_type": "execute_result"
    }
   ],
   "source": [
    "text_5.count('e') # 괄호안에 주어진 문자열이 몇 번 나타나는지 "
   ]
  },
  {
   "cell_type": "code",
   "execution_count": 31,
   "metadata": {
    "id": "IhADwww1CXXe"
   },
   "outputs": [
    {
     "data": {
      "text/plain": [
       "['There', 'is', 'a', 'desk']"
      ]
     },
     "execution_count": 31,
     "metadata": {},
     "output_type": "execute_result"
    }
   ],
   "source": [
    "text_5.split(sep=' ')  # sep= 으로 지정된 문자열을 사용하여 분자열을 나누어서 리스트로 저장"
   ]
  },
  {
   "cell_type": "code",
   "execution_count": null,
   "metadata": {
    "id": "gvF_hU0wCdYv"
   },
   "outputs": [],
   "source": []
  }
 ],
 "metadata": {
  "colab": {
   "authorship_tag": "ABX9TyMBpF5HuLC0Wg8HwGwIkRBV",
   "name": "string.ipynb",
   "provenance": []
  },
  "interpreter": {
   "hash": "3c743bb9761483425747f572da09963146dc6d92679c768be5abee3553babfe7"
  },
  "kernelspec": {
   "display_name": "Python 3.8.10 64-bit (conda)",
   "name": "python3"
  },
  "language_info": {
   "codemirror_mode": {
    "name": "ipython",
    "version": 3
   },
   "file_extension": ".py",
   "mimetype": "text/x-python",
   "name": "python",
   "nbconvert_exporter": "python",
   "pygments_lexer": "ipython3",
   "version": "3.9.12"
  }
 },
 "nbformat": 4,
 "nbformat_minor": 2
}