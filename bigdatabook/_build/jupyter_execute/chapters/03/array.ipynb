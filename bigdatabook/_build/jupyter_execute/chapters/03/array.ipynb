{
 "cells": [
  {
   "cell_type": "markdown",
   "metadata": {
    "id": "znd28S1DiCpl"
   },
   "source": [
    "# 행렬"
   ]
  },
  {
   "cell_type": "markdown",
   "metadata": {
    "id": "aJb2TowBiIKj"
   },
   "source": [
    "행렬(`array`)은 수학에서 나오는 행렬(matrix) 형태의 자료를 컴퓨터에 저장하기 위한 자료 형식이다.\n",
    "\n",
    "이 과목에서는 행렬 형식보다 데이터프레임 형식의 자료를 주로 이용한다. 이 장에서는 라이브러리 `numpy` 에서 제공하는 행렬의 간단한 사용법만 살펴볼것이다. \n",
    "\n",
    "행렬 형식은 라이브러리 `numpy` 를 불러서 사용할 수 있다. 다음은  `numpy` 라이브러리를 `np` 로 지칭하여 사용하겠다는 명령이다.\n",
    " "
   ]
  },
  {
   "cell_type": "code",
   "execution_count": 1,
   "metadata": {
    "executionInfo": {
     "elapsed": 262,
     "status": "ok",
     "timestamp": 1631448096259,
     "user": {
      "displayName": "Yonghee Lee",
      "photoUrl": "https://lh3.googleusercontent.com/a-/AOh14GhAdQHSNVWnNOcFlUVngZa1OBgaG7xdUrznR__gdg=s64",
      "userId": "10559206703728046520"
     },
     "user_tz": -540
    },
    "id": "KwtxgGGYzlk-"
   },
   "outputs": [],
   "source": [
    "import numpy as np"
   ]
  },
  {
   "cell_type": "markdown",
   "metadata": {
    "id": "YaFHqF3Ujfn-"
   },
   "source": [
    "행렬 형식의 자료는 차원(dimension)이 있다. 이 과목에서는 1차원 행렬과 2차원 행렬만 배워 볼 것이다.\n",
    "\n",
    "일단 숫자 1,2,3,4,5,6 으로 구성된 1차원 행렬은 다음과 같이 정의한다. `np` 로 지정된 `numpy` 라이브러리에서 함수 `array` 를 사용한다. 괄호 `()` 안에 숫자를 리스트로 묶어서 넣어주면 된다."
   ]
  },
  {
   "cell_type": "code",
   "execution_count": 2,
   "metadata": {
    "colab": {
     "base_uri": "https://localhost:8080/"
    },
    "executionInfo": {
     "elapsed": 252,
     "status": "ok",
     "timestamp": 1631448097730,
     "user": {
      "displayName": "Yonghee Lee",
      "photoUrl": "https://lh3.googleusercontent.com/a-/AOh14GhAdQHSNVWnNOcFlUVngZa1OBgaG7xdUrznR__gdg=s64",
      "userId": "10559206703728046520"
     },
     "user_tz": -540
    },
    "id": "PhkYA-fuiCUV",
    "outputId": "6ae76ce4-159f-408c-9901-049e80d75462"
   },
   "outputs": [
    {
     "data": {
      "text/plain": [
       "array([1, 2, 3, 4, 5, 6])"
      ]
     },
     "execution_count": 2,
     "metadata": {},
     "output_type": "execute_result"
    }
   ],
   "source": [
    "a = np.array([1,2,3,4,5,6])\n",
    "a"
   ]
  },
  {
   "cell_type": "markdown",
   "metadata": {
    "id": "LGjqhEmpkiU3"
   },
   "source": [
    "**행렬과 리스트(list)의 차이점은 행렬은 리스트와 달리 같은 형식의 자료만 모아 놓을 수 있다.**\n",
    "\n",
    "예를 들어 다음과 같이 문자와 숫자를 함께 저장하는 행렬은 정의가 안된다. 아래 명령을 실행시키면 숫자가 모두 문자열로 변환된 행렬이 생성되는 것을 알 수 있다. "
   ]
  },
  {
   "cell_type": "code",
   "execution_count": 3,
   "metadata": {
    "colab": {
     "base_uri": "https://localhost:8080/"
    },
    "executionInfo": {
     "elapsed": 337,
     "status": "ok",
     "timestamp": 1631448115875,
     "user": {
      "displayName": "Yonghee Lee",
      "photoUrl": "https://lh3.googleusercontent.com/a-/AOh14GhAdQHSNVWnNOcFlUVngZa1OBgaG7xdUrznR__gdg=s64",
      "userId": "10559206703728046520"
     },
     "user_tz": -540
    },
    "id": "gKCKNLh6CSAU",
    "outputId": "866d033a-828c-4a8d-c04f-048d523eb333"
   },
   "outputs": [
    {
     "data": {
      "text/plain": [
       "array(['1', '2', 'a'], dtype='<U11')"
      ]
     },
     "execution_count": 3,
     "metadata": {},
     "output_type": "execute_result"
    }
   ],
   "source": [
    "np.array([1, 2, 'a'])"
   ]
  },
  {
   "cell_type": "markdown",
   "metadata": {
    "id": "qBeDa0g7lTfQ"
   },
   "source": [
    "행렬의 원소는 다음과 같이 순서의 위치를 괄호 `[]` 안에 넣어서 불러낼 수 있다. 위치의 순서가 0부터 시작하는 것에 유의하자."
   ]
  },
  {
   "cell_type": "code",
   "execution_count": 4,
   "metadata": {
    "colab": {
     "base_uri": "https://localhost:8080/"
    },
    "executionInfo": {
     "elapsed": 284,
     "status": "ok",
     "timestamp": 1631448122018,
     "user": {
      "displayName": "Yonghee Lee",
      "photoUrl": "https://lh3.googleusercontent.com/a-/AOh14GhAdQHSNVWnNOcFlUVngZa1OBgaG7xdUrznR__gdg=s64",
      "userId": "10559206703728046520"
     },
     "user_tz": -540
    },
    "id": "klE7M2vaChjY",
    "outputId": "1d6b3c68-3c48-4f44-8718-935553b14585"
   },
   "outputs": [
    {
     "data": {
      "text/plain": [
       "1"
      ]
     },
     "execution_count": 4,
     "metadata": {},
     "output_type": "execute_result"
    }
   ],
   "source": [
    "a[0]"
   ]
  },
  {
   "cell_type": "code",
   "execution_count": 5,
   "metadata": {
    "colab": {
     "base_uri": "https://localhost:8080/"
    },
    "executionInfo": {
     "elapsed": 559,
     "status": "ok",
     "timestamp": 1631448124463,
     "user": {
      "displayName": "Yonghee Lee",
      "photoUrl": "https://lh3.googleusercontent.com/a-/AOh14GhAdQHSNVWnNOcFlUVngZa1OBgaG7xdUrznR__gdg=s64",
      "userId": "10559206703728046520"
     },
     "user_tz": -540
    },
    "id": "CbN4SxP0DDYn",
    "outputId": "3d1b04c5-23ae-4264-a33b-bda33b886381"
   },
   "outputs": [
    {
     "data": {
      "text/plain": [
       "5"
      ]
     },
     "execution_count": 5,
     "metadata": {},
     "output_type": "execute_result"
    }
   ],
   "source": [
    "a[4]"
   ]
  },
  {
   "cell_type": "code",
   "execution_count": 6,
   "metadata": {
    "colab": {
     "base_uri": "https://localhost:8080/",
     "height": 162
    },
    "executionInfo": {
     "elapsed": 265,
     "status": "error",
     "timestamp": 1631448128016,
     "user": {
      "displayName": "Yonghee Lee",
      "photoUrl": "https://lh3.googleusercontent.com/a-/AOh14GhAdQHSNVWnNOcFlUVngZa1OBgaG7xdUrznR__gdg=s64",
      "userId": "10559206703728046520"
     },
     "user_tz": -540
    },
    "id": "ol1vpoP5Chm6",
    "outputId": "5a08c604-1686-4a0d-ff46-129766297335"
   },
   "outputs": [
    {
     "ename": "IndexError",
     "evalue": "index 6 is out of bounds for axis 0 with size 6",
     "output_type": "error",
     "traceback": [
      "\u001b[1;31m---------------------------------------------------------------------------\u001b[0m",
      "\u001b[1;31mIndexError\u001b[0m                                Traceback (most recent call last)",
      "Input \u001b[1;32mIn [6]\u001b[0m, in \u001b[0;36m<cell line: 1>\u001b[1;34m()\u001b[0m\n\u001b[1;32m----> 1\u001b[0m \u001b[43ma\u001b[49m\u001b[43m[\u001b[49m\u001b[38;5;241;43m6\u001b[39;49m\u001b[43m]\u001b[49m\n",
      "\u001b[1;31mIndexError\u001b[0m: index 6 is out of bounds for axis 0 with size 6"
     ]
    }
   ],
   "source": [
    "a[6]"
   ]
  },
  {
   "cell_type": "markdown",
   "metadata": {
    "id": "R8yq2zfhlvKN"
   },
   "source": [
    "하나의 원소가 아닌 여러 개의 원소들은 리스트를 이용하여 다음과 같이 선택할 수 있다."
   ]
  },
  {
   "cell_type": "code",
   "execution_count": 7,
   "metadata": {
    "colab": {
     "base_uri": "https://localhost:8080/"
    },
    "executionInfo": {
     "elapsed": 251,
     "status": "ok",
     "timestamp": 1631448132886,
     "user": {
      "displayName": "Yonghee Lee",
      "photoUrl": "https://lh3.googleusercontent.com/a-/AOh14GhAdQHSNVWnNOcFlUVngZa1OBgaG7xdUrznR__gdg=s64",
      "userId": "10559206703728046520"
     },
     "user_tz": -540
    },
    "id": "CX6J4509Chqa",
    "outputId": "01aa55c4-c19a-4325-d812-aed470b220f3"
   },
   "outputs": [
    {
     "data": {
      "text/plain": [
       "array([1, 2, 3])"
      ]
     },
     "execution_count": 7,
     "metadata": {},
     "output_type": "execute_result"
    }
   ],
   "source": [
    "a[[0,1,2]]"
   ]
  },
  {
   "cell_type": "code",
   "execution_count": 8,
   "metadata": {
    "colab": {
     "base_uri": "https://localhost:8080/"
    },
    "executionInfo": {
     "elapsed": 245,
     "status": "ok",
     "timestamp": 1631448136380,
     "user": {
      "displayName": "Yonghee Lee",
      "photoUrl": "https://lh3.googleusercontent.com/a-/AOh14GhAdQHSNVWnNOcFlUVngZa1OBgaG7xdUrznR__gdg=s64",
      "userId": "10559206703728046520"
     },
     "user_tz": -540
    },
    "id": "P7s4jI2VCyYu",
    "outputId": "65998c97-0f86-47fa-acfc-c64b49afb285"
   },
   "outputs": [
    {
     "data": {
      "text/plain": [
       "array([1, 4, 6])"
      ]
     },
     "execution_count": 8,
     "metadata": {},
     "output_type": "execute_result"
    }
   ],
   "source": [
    "a[[0,3,5]]"
   ]
  },
  {
   "cell_type": "markdown",
   "metadata": {
    "id": "IkaMIs_1vU-w"
   },
   "source": [
    "아래 코드에서 `0:3` 은  일정하게 감소하거나 증가하는 숫자들에 대한 형식이며 이를 범위(`range`) 형식이라고 부른다. 이런 범위 형식는 문자열의 일부를 추출할 때 사용하였다.\n",
    "\n",
    "```\n",
    "start:end\n",
    "```\n",
    "\n",
    "`0:3` 은 `0` 으로 시작해서 `3-1=2` 로 끝나는 정수의 범위을 의미한다. 범위가 `end` 로 끝나지 않고 `end-1` 로 끝나는 것에 유의하자.\n"
   ]
  },
  {
   "cell_type": "code",
   "execution_count": 9,
   "metadata": {
    "colab": {
     "base_uri": "https://localhost:8080/"
    },
    "executionInfo": {
     "elapsed": 249,
     "status": "ok",
     "timestamp": 1631445622462,
     "user": {
      "displayName": "Yonghee Lee",
      "photoUrl": "https://lh3.googleusercontent.com/a-/AOh14GhAdQHSNVWnNOcFlUVngZa1OBgaG7xdUrznR__gdg=s64",
      "userId": "10559206703728046520"
     },
     "user_tz": -540
    },
    "id": "e_mJ-KCyvIK8",
    "outputId": "94851f54-7a6d-4f13-da2b-4d5c518a8045"
   },
   "outputs": [
    {
     "data": {
      "text/plain": [
       "array([1, 2, 3])"
      ]
     },
     "execution_count": 9,
     "metadata": {},
     "output_type": "execute_result"
    }
   ],
   "source": [
    "a[0:3]"
   ]
  },
  {
   "cell_type": "markdown",
   "metadata": {
    "id": "Sgxm0HyFnfVm"
   },
   "source": [
    "\n",
    "\n",
    "이제 `numpy` 에서 일정한 크기로 증가하거나 감소하는 수들로 이루어진 행렬을 한번에 만드는 함수 `arange` 를 사용해보자.\n",
    "\n",
    "\n",
    "`numpy` 라이브러리의 함수 `arange()`는 괄호 안에 3가지 인자(argument)를 넣어서 생성된 범위 형식에 따라서 행렬을 만들어 준다.\n",
    "\n",
    "```\n",
    "arange(start, stop, step)\n",
    "```\n",
    "  - `start`: 시작하는 수\n",
    "  - `stop`: 끝나는 수\n",
    "  - `step`: 증가하는 수 (음수도 가능)\n",
    "\n",
    "만약 첫 번째 인자만 있는 경우 0으로 시작해서 `start-1` 로 끝나는 정수의 행렬을 만들어 준다."
   ]
  },
  {
   "cell_type": "code",
   "execution_count": 10,
   "metadata": {
    "colab": {
     "base_uri": "https://localhost:8080/"
    },
    "executionInfo": {
     "elapsed": 257,
     "status": "ok",
     "timestamp": 1631448327519,
     "user": {
      "displayName": "Yonghee Lee",
      "photoUrl": "https://lh3.googleusercontent.com/a-/AOh14GhAdQHSNVWnNOcFlUVngZa1OBgaG7xdUrznR__gdg=s64",
      "userId": "10559206703728046520"
     },
     "user_tz": -540
    },
    "id": "aiqrE9zmmrWe",
    "outputId": "6c5db0ce-76ce-40e7-93b6-dd63487c24cf"
   },
   "outputs": [
    {
     "data": {
      "text/plain": [
       "array([0, 1, 2, 3, 4, 5])"
      ]
     },
     "execution_count": 10,
     "metadata": {},
     "output_type": "execute_result"
    }
   ],
   "source": [
    "np.arange(6)"
   ]
  },
  {
   "cell_type": "markdown",
   "metadata": {
    "id": "kxq3LMdJrBXV"
   },
   "source": [
    "만약 첫 번째와 두 번째 인자만 있는 경우 `start` 으로 시작해서 `end-1` 로 끝나는 정수의 행렬을 만들어 준다.\n",
    "\n"
   ]
  },
  {
   "cell_type": "code",
   "execution_count": 11,
   "metadata": {
    "colab": {
     "base_uri": "https://localhost:8080/"
    },
    "executionInfo": {
     "elapsed": 235,
     "status": "ok",
     "timestamp": 1631448329055,
     "user": {
      "displayName": "Yonghee Lee",
      "photoUrl": "https://lh3.googleusercontent.com/a-/AOh14GhAdQHSNVWnNOcFlUVngZa1OBgaG7xdUrznR__gdg=s64",
      "userId": "10559206703728046520"
     },
     "user_tz": -540
    },
    "id": "jEbQuq4Fm5y4",
    "outputId": "387dff7f-55ea-4a4a-b627-0eefd5979516"
   },
   "outputs": [
    {
     "data": {
      "text/plain": [
       "array([1, 2, 3, 4, 5, 6, 7, 8, 9])"
      ]
     },
     "execution_count": 11,
     "metadata": {},
     "output_type": "execute_result"
    }
   ],
   "source": [
    "np.arange(1,10)"
   ]
  },
  {
   "cell_type": "markdown",
   "metadata": {
    "id": "mgkysq-trRVq"
   },
   "source": [
    "세 번째 인자는 증가하는 수를 지정한다.\n",
    "\n"
   ]
  },
  {
   "cell_type": "code",
   "execution_count": 12,
   "metadata": {
    "colab": {
     "base_uri": "https://localhost:8080/"
    },
    "executionInfo": {
     "elapsed": 247,
     "status": "ok",
     "timestamp": 1631448331239,
     "user": {
      "displayName": "Yonghee Lee",
      "photoUrl": "https://lh3.googleusercontent.com/a-/AOh14GhAdQHSNVWnNOcFlUVngZa1OBgaG7xdUrznR__gdg=s64",
      "userId": "10559206703728046520"
     },
     "user_tz": -540
    },
    "id": "Yu5dBiZ7rUHX",
    "outputId": "b26a484c-4f75-4289-fc9b-682e5e683e7d"
   },
   "outputs": [
    {
     "data": {
      "text/plain": [
       "array([0, 3, 6, 9])"
      ]
     },
     "execution_count": 12,
     "metadata": {},
     "output_type": "execute_result"
    }
   ],
   "source": [
    "np.arange(0, 10, 3)"
   ]
  },
  {
   "cell_type": "markdown",
   "metadata": {
    "id": "QoZwUH3ImH0g"
   },
   "source": [
    "함수 `arange()` 는 정수 뿐만 아니라 부동소숫점 형태의 행렬도 생성할 수 있다 "
   ]
  },
  {
   "cell_type": "code",
   "execution_count": 13,
   "metadata": {
    "colab": {
     "base_uri": "https://localhost:8080/"
    },
    "executionInfo": {
     "elapsed": 241,
     "status": "ok",
     "timestamp": 1631448333561,
     "user": {
      "displayName": "Yonghee Lee",
      "photoUrl": "https://lh3.googleusercontent.com/a-/AOh14GhAdQHSNVWnNOcFlUVngZa1OBgaG7xdUrznR__gdg=s64",
      "userId": "10559206703728046520"
     },
     "user_tz": -540
    },
    "id": "mOVgDGrmC5qL",
    "outputId": "48c52631-539d-4fdc-dcba-050349777fce"
   },
   "outputs": [
    {
     "data": {
      "text/plain": [
       "array([0. , 0.1, 0.2, 0.3, 0.4, 0.5, 0.6, 0.7, 0.8, 0.9])"
      ]
     },
     "execution_count": 13,
     "metadata": {},
     "output_type": "execute_result"
    }
   ],
   "source": [
    "np.arange(0, 1, 0.1)"
   ]
  },
  {
   "cell_type": "code",
   "execution_count": 14,
   "metadata": {
    "colab": {
     "base_uri": "https://localhost:8080/"
    },
    "executionInfo": {
     "elapsed": 287,
     "status": "ok",
     "timestamp": 1631448336193,
     "user": {
      "displayName": "Yonghee Lee",
      "photoUrl": "https://lh3.googleusercontent.com/a-/AOh14GhAdQHSNVWnNOcFlUVngZa1OBgaG7xdUrznR__gdg=s64",
      "userId": "10559206703728046520"
     },
     "user_tz": -540
    },
    "id": "AznCbqRjmpQi",
    "outputId": "94545d41-5a47-421a-d13e-44dd8b6ba4b1"
   },
   "outputs": [
    {
     "data": {
      "text/plain": [
       "array([10,  8,  6,  4,  2,  0, -2, -4, -6, -8])"
      ]
     },
     "execution_count": 14,
     "metadata": {},
     "output_type": "execute_result"
    }
   ],
   "source": [
    "np.arange(10, -10, -2)"
   ]
  },
  {
   "cell_type": "markdown",
   "metadata": {
    "id": "dxEh6wC5svPC"
   },
   "source": [
    "이제 2차원 행열을 만들어 보자. 다음과 같은 행이 2개이고 열이 4개인 2차원 행렬은 다음 코드로 만들 수 있다.\n",
    "\n",
    "$$ \n",
    "\\begin{pmatrix}\n",
    "1 & 2 & 3 & 4 \\\\\n",
    "5 & 6 & 7 & 8\n",
    "\\end{pmatrix}\n",
    "$$\n",
    "\n",
    "아래에서 `reshape(r,c)` 메소드는 1차원 행렬을 행의 수가 `r`, 열의 수가 `r` 인 행렬로 만드는 기능을 한다."
   ]
  },
  {
   "cell_type": "code",
   "execution_count": 15,
   "metadata": {
    "colab": {
     "base_uri": "https://localhost:8080/"
    },
    "executionInfo": {
     "elapsed": 238,
     "status": "ok",
     "timestamp": 1631448358182,
     "user": {
      "displayName": "Yonghee Lee",
      "photoUrl": "https://lh3.googleusercontent.com/a-/AOh14GhAdQHSNVWnNOcFlUVngZa1OBgaG7xdUrznR__gdg=s64",
      "userId": "10559206703728046520"
     },
     "user_tz": -540
    },
    "id": "lDri1UGOsX7x",
    "outputId": "cfb79656-5b9c-4511-d554-1b0e0a31f54f"
   },
   "outputs": [
    {
     "data": {
      "text/plain": [
       "array([[1, 2, 3, 4],\n",
       "       [5, 6, 7, 8]])"
      ]
     },
     "execution_count": 15,
     "metadata": {},
     "output_type": "execute_result"
    }
   ],
   "source": [
    "b = np.arange(1,9).reshape(2, 4)\n",
    "b"
   ]
  },
  {
   "cell_type": "markdown",
   "metadata": {
    "id": "o3aeMBW1uTQ3"
   },
   "source": [
    "위의 결과를 활용하면 동일한 2차원 행렬을 다음과 같이 만들 수 있다. "
   ]
  },
  {
   "cell_type": "code",
   "execution_count": 16,
   "metadata": {
    "colab": {
     "base_uri": "https://localhost:8080/"
    },
    "executionInfo": {
     "elapsed": 250,
     "status": "ok",
     "timestamp": 1631448367100,
     "user": {
      "displayName": "Yonghee Lee",
      "photoUrl": "https://lh3.googleusercontent.com/a-/AOh14GhAdQHSNVWnNOcFlUVngZa1OBgaG7xdUrznR__gdg=s64",
      "userId": "10559206703728046520"
     },
     "user_tz": -540
    },
    "id": "sIjckDr-tu72",
    "outputId": "2cedf512-d92f-4620-9cda-5b7bc864e674"
   },
   "outputs": [
    {
     "data": {
      "text/plain": [
       "array([[1, 2, 3, 4],\n",
       "       [5, 6, 7, 8]])"
      ]
     },
     "execution_count": 16,
     "metadata": {},
     "output_type": "execute_result"
    }
   ],
   "source": [
    "c = np.array( [ [1, 2, 3, 4], [5, 6, 7, 8] ])\n",
    "c"
   ]
  },
  {
   "cell_type": "markdown",
   "metadata": {
    "id": "I-_fi7nYu8vu"
   },
   "source": [
    "2차원 행렬의 원소는 1차원과 유사하게 일부를 지정하여 볼 수 있다."
   ]
  },
  {
   "cell_type": "code",
   "execution_count": 17,
   "metadata": {
    "colab": {
     "base_uri": "https://localhost:8080/"
    },
    "executionInfo": {
     "elapsed": 251,
     "status": "ok",
     "timestamp": 1631448376405,
     "user": {
      "displayName": "Yonghee Lee",
      "photoUrl": "https://lh3.googleusercontent.com/a-/AOh14GhAdQHSNVWnNOcFlUVngZa1OBgaG7xdUrznR__gdg=s64",
      "userId": "10559206703728046520"
     },
     "user_tz": -540
    },
    "id": "YArP9CM8uogK",
    "outputId": "4af4c23c-ad60-4640-d002-20799c426248"
   },
   "outputs": [
    {
     "data": {
      "text/plain": [
       "1"
      ]
     },
     "execution_count": 17,
     "metadata": {},
     "output_type": "execute_result"
    }
   ],
   "source": [
    "b[0,0]"
   ]
  },
  {
   "cell_type": "code",
   "execution_count": 18,
   "metadata": {
    "colab": {
     "base_uri": "https://localhost:8080/"
    },
    "executionInfo": {
     "elapsed": 266,
     "status": "ok",
     "timestamp": 1631448378619,
     "user": {
      "displayName": "Yonghee Lee",
      "photoUrl": "https://lh3.googleusercontent.com/a-/AOh14GhAdQHSNVWnNOcFlUVngZa1OBgaG7xdUrznR__gdg=s64",
      "userId": "10559206703728046520"
     },
     "user_tz": -540
    },
    "id": "c3CKAbDBvBZU",
    "outputId": "3fd2227c-587f-4b20-e51e-897259fb3253"
   },
   "outputs": [
    {
     "data": {
      "text/plain": [
       "array([1, 2, 3, 4])"
      ]
     },
     "execution_count": 18,
     "metadata": {},
     "output_type": "execute_result"
    }
   ],
   "source": [
    "b[0,0:4]"
   ]
  },
  {
   "cell_type": "code",
   "execution_count": 19,
   "metadata": {
    "colab": {
     "base_uri": "https://localhost:8080/"
    },
    "executionInfo": {
     "elapsed": 3,
     "status": "ok",
     "timestamp": 1631448380341,
     "user": {
      "displayName": "Yonghee Lee",
      "photoUrl": "https://lh3.googleusercontent.com/a-/AOh14GhAdQHSNVWnNOcFlUVngZa1OBgaG7xdUrznR__gdg=s64",
      "userId": "10559206703728046520"
     },
     "user_tz": -540
    },
    "id": "UBQl4lVevBcT",
    "outputId": "1ec68437-47c6-4a8a-dcb1-33d03e5f7f2e"
   },
   "outputs": [
    {
     "data": {
      "text/plain": [
       "array([[2, 3],\n",
       "       [6, 7]])"
      ]
     },
     "execution_count": 19,
     "metadata": {},
     "output_type": "execute_result"
    }
   ],
   "source": [
    "b[0:2, 1:3]"
   ]
  },
  {
   "cell_type": "markdown",
   "metadata": {},
   "source": [
    "행렬 형식은 범위가 정의된 범위에서 벗어나도 오류가 나오지 않고 주어진 범위에 포함되는 부분만 슬라이싱해준다.\n",
    "\n",
    "이러한 현상을 유용하게 이용할 수도 있겠지만 언제나 유효한 범위를 사용하는갓이 좋다.   "
   ]
  },
  {
   "cell_type": "code",
   "execution_count": 20,
   "metadata": {},
   "outputs": [
    {
     "data": {
      "text/plain": [
       "array([[6, 7]])"
      ]
     },
     "execution_count": 20,
     "metadata": {},
     "output_type": "execute_result"
    }
   ],
   "source": [
    "b[1:3, 1:3]"
   ]
  },
  {
   "cell_type": "markdown",
   "metadata": {},
   "source": [
    "행렬을 슬라이싱하는 경우 한 개의 행, 여러 개의 열을 선택하면 우리의 직관과 다르게 결과가 나오니 주의하자. \n",
    "\n",
    "일단 규칙은 행의 수가 1 이거나 열의 수가 1이면 결과는 1차원 행렬이 된다.  "
   ]
  },
  {
   "cell_type": "code",
   "execution_count": 25,
   "metadata": {},
   "outputs": [
    {
     "data": {
      "text/plain": [
       "array([2, 6])"
      ]
     },
     "execution_count": 25,
     "metadata": {},
     "output_type": "execute_result"
    }
   ],
   "source": [
    "c = b[0:2,1]\n",
    "c"
   ]
  },
  {
   "cell_type": "code",
   "execution_count": 26,
   "metadata": {},
   "outputs": [
    {
     "data": {
      "text/plain": [
       "1"
      ]
     },
     "execution_count": 26,
     "metadata": {},
     "output_type": "execute_result"
    }
   ],
   "source": [
    "c.ndim"
   ]
  },
  {
   "cell_type": "code",
   "execution_count": 27,
   "metadata": {},
   "outputs": [
    {
     "data": {
      "text/plain": [
       "array([5, 6, 7])"
      ]
     },
     "execution_count": 27,
     "metadata": {},
     "output_type": "execute_result"
    }
   ],
   "source": [
    "d = b[1, 0:3]\n",
    "d"
   ]
  },
  {
   "cell_type": "code",
   "execution_count": 28,
   "metadata": {},
   "outputs": [
    {
     "data": {
      "text/plain": [
       "1"
      ]
     },
     "execution_count": 28,
     "metadata": {},
     "output_type": "execute_result"
    }
   ],
   "source": [
    "d.ndim"
   ]
  }
 ],
 "metadata": {
  "colab": {
   "authorship_tag": "ABX9TyNdGyaVKDTQihxRu3CJbDz0",
   "name": "array.ipynb",
   "provenance": []
  },
  "interpreter": {
   "hash": "3c743bb9761483425747f572da09963146dc6d92679c768be5abee3553babfe7"
  },
  "kernelspec": {
   "display_name": "Python 3.8.10 64-bit (conda)",
   "name": "python3"
  },
  "language_info": {
   "codemirror_mode": {
    "name": "ipython",
    "version": 3
   },
   "file_extension": ".py",
   "mimetype": "text/x-python",
   "name": "python",
   "nbconvert_exporter": "python",
   "pygments_lexer": "ipython3",
   "version": "3.9.12"
  }
 },
 "nbformat": 4,
 "nbformat_minor": 2
}