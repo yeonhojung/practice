{
 "cells": [
  {
   "cell_type": "markdown",
   "metadata": {
    "id": "5WF1cUiGOC4P"
   },
   "source": [
    "# 추정량의 성질"
   ]
  },
  {
   "cell_type": "code",
   "execution_count": 1,
   "metadata": {
    "id": "8FtWUjFCUGhH"
   },
   "outputs": [
    {
     "name": "stderr",
     "output_type": "stream",
     "text": [
      "'sudo'은(는) 내부 또는 외부 명령, 실행할 수 있는 프로그램, 또는\n",
      "배치 파일이 아닙니다.\n"
     ]
    },
    {
     "name": "stderr",
     "output_type": "stream",
     "text": [
      "'sudo'은(는) 내부 또는 외부 명령, 실행할 수 있는 프로그램, 또는\n",
      "배치 파일이 아닙니다.\n"
     ]
    },
    {
     "name": "stderr",
     "output_type": "stream",
     "text": [
      "'rm'은(는) 내부 또는 외부 명령, 실행할 수 있는 프로그램, 또는\n",
      "배치 파일이 아닙니다.\n"
     ]
    }
   ],
   "source": [
    "# 한글 폰트가 깨질 때 사용 - 런타임 메뉴에서 다시 시작 및 모두 실행 선택. (출처: https://teddylee777.github.io/colab/colab-korean)\n",
    "!sudo apt-get install -y fonts-nanum\n",
    "!sudo fc-cache -fv\n",
    "!rm ~/.cache/matplotlib -rf"
   ]
  },
  {
   "cell_type": "code",
   "execution_count": 2,
   "metadata": {
    "id": "Amm-BX-gUJNC"
   },
   "outputs": [],
   "source": [
    "# 그림 그리기를 위한 코드와 한글 실행\n",
    "import matplotlib.pyplot as plt\n",
    "from matplotlib import rc\n",
    "%matplotlib inline\n",
    "\n",
    "plt.rc('font', family='NanumBarunGothic') # clolab 에서 한글 사용 \n",
    "plt.rcParams['axes.unicode_minus'] = False \n",
    "plt.rcParams[\"figure.figsize\"] = (8,8)   # 그림 크기 조정"
   ]
  },
  {
   "cell_type": "code",
   "execution_count": 3,
   "metadata": {
    "id": "JZQeKp2AULVQ"
   },
   "outputs": [],
   "source": [
    "import pandas as pd\n",
    "import numpy as np\n",
    "import seaborn as sns"
   ]
  },
  {
   "cell_type": "markdown",
   "metadata": {
    "id": "vfrgn3qKPeZP"
   },
   "source": [
    "정치인은 지역구내 자신을 지지하는 유권자의 비율을 알고 싶어하고 기업에서 마케팅을 담당하는 사람들은 고객들이 제품에 대하여 어떤 점에 만족하며 불만이 있는지 알고 싶어한다. 이렇게 사람들이 자신의 업무 또는 관심에 따라 다양한 사실들을 알고 싶어하며 (예를 들면 소득의 평균, 몸무게의 평균, 성적의 평균, 실업률, 지지율, 제품의 불량률) 많는 경우 특정한 집단에 대하여 관심있는 사항의 평균 또는 비율을 알고 싶어한다. \n",
    "\n",
    "이러한 다양한 정보의 대한 요구에 대하여 여론조사를 실시하거나 실험 또는 관측연구를 수행하여 모집단에 대한 정보를 필요한 사람들에게 제공한다. 통계적인 확률표본을 사용하여 자료를 모으고 이를 이용하여 알고자 하는 모집단의 모수를 추정하는 것이 통계적 추정(statistical estimation)이다.\n",
    "\n",
    "관심있는 모수는 대부분의 경우 모평균이나 모비율이며 이를 추정하는 방법은 의외로 간단한다. 확률표본으로 부터 얻어진 통계량, 즉 표본 평균 또는 표본 비율이 모수에 대한 추정량(estimator)이다.\n",
    "\n",
    "- 통계량(statistics): 확률표본으로 부터 얻어진 요약값\n",
    "- 추정량(estimator) : 관심있는 모수를 추정할 수 있는 통계량 \n",
    "\n",
    "쉽게 요약하면 통계량은 표본평균, 표본비율 등 표본 자료를 요약하는 일반적인  방법을 기술한 것이고 추정량은 추정해야할 대상이 있는 통계량이다. 우리는 지지율, 실업률, 소득의 평균 등  관심이 있는 대상이 있을 때 이를 추정할 수 있는 통계량을 추정량이라고 부른다. \n",
    "\n",
    "추정량은 반드시 통계량일 필요는 없다. 예를  들어 해마다 경제전문가들이 다음 년도의 경제성장률을 예측하면서 추정값을 발표한다. 이러한 추정값은 확률표본을 사용하여 구한 통계량이 아니다.\n",
    "\n",
    "우리는 이 절에서 **추정량이 확률표본으로 부터 얻은 통계량** 인 경우에 그 성질을 알아보도록 한다."
   ]
  },
  {
   "cell_type": "markdown",
   "metadata": {
    "id": "oSvoWii1PncS"
   },
   "source": [
    "## 추정량의 임의성\n",
    "\n",
    "모수의 추정량은 표본으로부터 얻어진 통계량이기 때문에 임의성(randomness)을 같는다. 여러분들이 선거 지지율을 조사하기 위항 18세 이상 성인을 1000명 임의로 추출한다고 하자. 동일한 여론 조사를 서로 다른 두 개의 회사가 동시에 실시하면 그 결과는 어떨까? 두 결과가 비슷할 수도 있고 매우 다를 수도 있다. \n",
    "그 이유는 **눈감고 표본을 추출하는** 임의성때문이다. \n",
    "\n",
    "이제 모집단을 가상적으로 만들어서 확률표본을 추출해 보자.\n",
    "\n",
    "모집단은 앞 절에서와 유사하게 10만명으로 구성된 하나의 선거구이며 A 후보를 지지하는 사람이 6만명, 지지하지 않는 사람이 4만명 있다고 하자. 즉 모집단의 지지율이 60%이다.  "
   ]
  },
  {
   "cell_type": "code",
   "execution_count": 4,
   "metadata": {
    "colab": {
     "base_uri": "https://localhost:8080/"
    },
    "id": "I-NQYqhKOAwF",
    "outputId": "d701ea65-cad7-4e6d-e47d-cb67bb3cd4ba"
   },
   "outputs": [
    {
     "data": {
      "text/plain": [
       "array([1., 1., 1., ..., 0., 0., 0.])"
      ]
     },
     "execution_count": 4,
     "metadata": {},
     "output_type": "execute_result"
    }
   ],
   "source": [
    "# 모집단의 수\n",
    "N = 100000\n",
    "\n",
    "# 지지하는 유권자의 수 \n",
    "favor = 60000\n",
    "\n",
    "# 반대하는 유권자의 수 \n",
    "opposite = 40000\n",
    "\n",
    "# 모집단 (1=지지, 0=반대)\n",
    "P = np.concatenate((np.ones(favor), np.zeros(opposite)), axis=0)\n",
    "P"
   ]
  },
  {
   "cell_type": "code",
   "execution_count": 5,
   "metadata": {
    "colab": {
     "base_uri": "https://localhost:8080/",
     "height": 483
    },
    "id": "OLQLutneC5dJ",
    "outputId": "e081638f-d007-4cba-9b24-36830585fcd1"
   },
   "outputs": [
    {
     "data": {
      "image/png": "[encoded data removed]",
      "text/plain": [
       "<Figure size 576x576 with 1 Axes>"
      ]
     },
     "metadata": {
      "needs_background": "light"
     },
     "output_type": "display_data"
    }
   ],
   "source": [
    "# 모집단의 분포\n",
    "plt.hist(P, bins='auto')\n",
    "plt.show()"
   ]
  },
  {
   "cell_type": "code",
   "execution_count": 6,
   "metadata": {
    "colab": {
     "base_uri": "https://localhost:8080/"
    },
    "id": "K-OOysYeVR-7",
    "outputId": "c884de85-76b5-4df7-9828-6196091127ab"
   },
   "outputs": [
    {
     "data": {
      "text/plain": [
       "0.6"
      ]
     },
     "execution_count": 6,
     "metadata": {},
     "output_type": "execute_result"
    }
   ],
   "source": [
    "# 모집단의 지지율 \n",
    "theta = np.mean(P)\n",
    "theta"
   ]
  },
  {
   "cell_type": "markdown",
   "metadata": {
    "id": "i3D1k7A0VcnC"
   },
   "source": [
    "이제 1000명의 표본 $x_1, x_2,\\dots, x_{1000}$ 을 임의로 추출하고 표본 지지율 $\\hat \\theta$ 을 구해보자. 표본 지지율은 표본 평균이면 모집단의 지지율의 추정량이다.\n",
    "\n",
    "\n",
    "$$ \\hat \\theta = \\frac{x_1+x_2+\\dots +x_{1000}}{1000} = \\frac{\\sum_{i=1}^{1000} x_i}{1000} $$"
   ]
  },
  {
   "cell_type": "code",
   "execution_count": 7,
   "metadata": {
    "colab": {
     "base_uri": "https://localhost:8080/"
    },
    "id": "L6DH9GqpVOls",
    "outputId": "1290548f-86ae-4a1c-e9e1-d4eae269c091"
   },
   "outputs": [
    {
     "data": {
      "text/plain": [
       "array([0., 0., 1., 0., 0., 1., 1., 0., 1., 1., 1., 0., 0., 0., 0., 1., 1.,\n",
       "       0., 0., 0., 0., 0., 1., 1., 1., 0., 1., 1., 0., 1., 0., 1., 1., 0.,\n",
       "       1., 1., 0., 1., 1., 1., 0., 0., 1., 1., 0., 1., 1., 1., 1., 1., 1.,\n",
       "       1., 0., 1., 1., 1., 1., 1., 1., 1., 1., 0., 1., 1., 1., 0., 1., 1.,\n",
       "       1., 0., 0., 1., 1., 0., 0., 1., 1., 0., 1., 1., 0., 1., 1., 1., 1.,\n",
       "       1., 1., 0., 0., 0., 1., 1., 1., 1., 1., 0., 0., 1., 0., 0., 0., 0.,\n",
       "       0., 1., 0., 0., 1., 1., 0., 0., 1., 1., 0., 0., 1., 0., 1., 1., 0.,\n",
       "       1., 0., 1., 1., 0., 0., 0., 1., 1., 0., 1., 1., 1., 1., 0., 1., 0.,\n",
       "       0., 1., 1., 1., 0., 1., 1., 1., 1., 0., 1., 1., 1., 1., 1., 1., 0.,\n",
       "       0., 0., 1., 0., 0., 1., 1., 1., 0., 0., 1., 1., 1., 1., 0., 1., 1.,\n",
       "       1., 1., 0., 0., 0., 1., 0., 0., 1., 1., 1., 1., 0., 0., 1., 0., 1.,\n",
       "       1., 1., 1., 1., 0., 1., 1., 1., 0., 0., 0., 0., 1., 1., 0., 1., 1.,\n",
       "       1., 1., 1., 0., 1., 1., 0., 0., 1., 1., 0., 0., 1., 1., 1., 0., 0.,\n",
       "       0., 0., 0., 1., 0., 1., 1., 0., 1., 1., 1., 1., 0., 1., 0., 1., 0.,\n",
       "       1., 0., 1., 0., 0., 1., 0., 1., 0., 1., 1., 1., 1., 1., 1., 1., 0.,\n",
       "       1., 1., 1., 1., 1., 1., 1., 0., 1., 1., 1., 0., 1., 1., 1., 1., 0.,\n",
       "       1., 1., 1., 1., 1., 1., 0., 0., 1., 1., 1., 1., 0., 1., 1., 1., 1.,\n",
       "       1., 0., 0., 0., 1., 0., 1., 0., 0., 0., 1., 0., 0., 1., 0., 1., 1.,\n",
       "       0., 0., 1., 1., 1., 1., 0., 1., 1., 0., 1., 1., 0., 1., 1., 1., 0.,\n",
       "       0., 1., 1., 0., 1., 1., 1., 1., 0., 1., 0., 1., 0., 0., 0., 1., 0.,\n",
       "       1., 0., 0., 0., 1., 1., 1., 0., 0., 0., 0., 1., 1., 1., 1., 0., 0.,\n",
       "       1., 1., 0., 0., 1., 0., 0., 1., 1., 0., 0., 0., 0., 1., 1., 1., 0.,\n",
       "       0., 1., 1., 1., 0., 0., 1., 1., 1., 1., 1., 1., 1., 1., 0., 0., 1.,\n",
       "       1., 1., 0., 0., 1., 1., 0., 1., 1., 1., 0., 0., 1., 1., 0., 0., 0.,\n",
       "       1., 0., 1., 1., 0., 1., 1., 0., 1., 1., 1., 0., 1., 1., 1., 0., 1.,\n",
       "       0., 1., 0., 0., 1., 1., 1., 1., 0., 1., 0., 0., 1., 1., 1., 0., 0.,\n",
       "       1., 0., 0., 1., 1., 1., 0., 0., 1., 1., 1., 0., 0., 1., 0., 1., 0.,\n",
       "       1., 1., 1., 1., 0., 0., 0., 1., 0., 1., 1., 0., 1., 1., 0., 1., 1.,\n",
       "       0., 1., 1., 0., 0., 0., 1., 1., 0., 1., 1., 1., 1., 1., 0., 0., 1.,\n",
       "       1., 0., 0., 1., 0., 1., 1., 1., 0., 1., 0., 0., 0., 1., 0., 1., 0.,\n",
       "       1., 1., 0., 1., 1., 0., 0., 0., 1., 0., 0., 1., 1., 0., 0., 1., 0.,\n",
       "       1., 1., 1., 1., 1., 0., 0., 0., 0., 0., 1., 0., 1., 1., 0., 1., 1.,\n",
       "       0., 1., 1., 1., 0., 0., 0., 1., 0., 1., 1., 1., 1., 1., 0., 1., 0.,\n",
       "       0., 1., 1., 1., 0., 0., 1., 0., 0., 1., 0., 0., 0., 1., 1., 0., 1.,\n",
       "       1., 1., 1., 0., 1., 1., 0., 1., 1., 1., 1., 0., 0., 0., 1., 0., 1.,\n",
       "       0., 0., 1., 0., 1., 1., 1., 0., 1., 0., 1., 1., 1., 1., 1., 0., 0.,\n",
       "       1., 0., 0., 1., 1., 0., 1., 1., 1., 1., 1., 1., 0., 1., 1., 1., 0.,\n",
       "       0., 1., 0., 1., 1., 1., 1., 1., 1., 0., 0., 1., 0., 0., 1., 1., 0.,\n",
       "       1., 1., 1., 0., 1., 1., 1., 0., 0., 1., 1., 0., 1., 1., 1., 1., 1.,\n",
       "       0., 1., 1., 1., 0., 0., 1., 0., 1., 1., 1., 1., 0., 1., 1., 1., 1.,\n",
       "       1., 1., 1., 1., 0., 1., 0., 1., 0., 0., 1., 1., 1., 0., 0., 1., 1.,\n",
       "       1., 0., 1., 1., 1., 0., 1., 1., 0., 1., 0., 1., 1., 1., 0., 1., 1.,\n",
       "       1., 1., 1., 1., 1., 1., 1., 0., 1., 1., 1., 1., 1., 0., 1., 1., 0.,\n",
       "       0., 0., 1., 1., 1., 1., 0., 1., 1., 1., 1., 1., 0., 1., 1., 0., 0.,\n",
       "       1., 0., 0., 0., 1., 1., 1., 0., 1., 0., 1., 0., 1., 1., 1., 0., 0.,\n",
       "       1., 0., 1., 1., 0., 0., 1., 1., 0., 1., 1., 0., 0., 0., 1., 0., 1.,\n",
       "       1., 1., 1., 1., 0., 1., 1., 0., 1., 0., 0., 1., 1., 0., 1., 1., 0.,\n",
       "       0., 1., 0., 1., 0., 1., 0., 1., 1., 1., 1., 0., 0., 1., 1., 1., 1.,\n",
       "       1., 1., 1., 1., 0., 1., 1., 1., 0., 1., 1., 0., 0., 1., 1., 0., 1.,\n",
       "       0., 1., 1., 1., 1., 0., 1., 1., 1., 0., 1., 0., 0., 0., 1., 1., 1.,\n",
       "       0., 0., 0., 1., 0., 1., 0., 1., 1., 0., 1., 0., 1., 0., 1., 1., 1.,\n",
       "       1., 1., 0., 1., 0., 0., 1., 1., 0., 0., 1., 1., 0., 1., 0., 1., 1.,\n",
       "       0., 0., 1., 0., 0., 0., 1., 1., 1., 1., 0., 1., 0., 0., 1., 1., 1.,\n",
       "       1., 1., 0., 0., 0., 0., 1., 1., 0., 1., 0., 0., 1., 0., 1., 0., 1.,\n",
       "       1., 1., 1., 1., 0., 1., 1., 0., 1., 0., 0., 0., 0., 1., 1., 0., 1.,\n",
       "       0., 1., 0., 1., 1., 1., 0., 0., 1., 1., 0., 0., 1., 1., 0., 1., 1.,\n",
       "       1., 1., 1., 1., 1., 1., 0., 0., 1., 1., 0., 1., 0., 1., 0., 1., 1.,\n",
       "       1., 0., 0., 1., 1., 0., 1., 0., 1., 0., 0., 0., 1., 1., 1., 1., 1.,\n",
       "       0., 1., 1., 1., 1., 0., 0., 1., 0., 1., 1., 1., 1., 1.])"
      ]
     },
     "execution_count": 7,
     "metadata": {},
     "output_type": "execute_result"
    }
   ],
   "source": [
    "# 표본의 개수 \n",
    "n= 1000\n",
    "\n",
    "# 확률표본 \n",
    "sample = np.random.choice(P, n, replace=False)\n",
    "sample"
   ]
  },
  {
   "cell_type": "code",
   "execution_count": 8,
   "metadata": {
    "colab": {
     "base_uri": "https://localhost:8080/"
    },
    "id": "1tfQssCBV4t0",
    "outputId": "0540f440-f414-4440-dc76-6f4741c43842"
   },
   "outputs": [
    {
     "data": {
      "text/plain": [
       "0.607"
      ]
     },
     "execution_count": 8,
     "metadata": {},
     "output_type": "execute_result"
    }
   ],
   "source": [
    "#표본의 지지율 \n",
    "hat_theta = np.mean(sample)\n",
    "hat_theta"
   ]
  },
  {
   "cell_type": "markdown",
   "metadata": {
    "id": "nnR3TEsoWLWT"
   },
   "source": [
    "표본을 다시 추출하여 표본의 지지율을 구해보자."
   ]
  },
  {
   "cell_type": "code",
   "execution_count": 9,
   "metadata": {
    "colab": {
     "base_uri": "https://localhost:8080/"
    },
    "id": "9KiLZ5CWWGvO",
    "outputId": "175f3af2-bfaa-46c9-d25b-f30492736438"
   },
   "outputs": [
    {
     "data": {
      "text/plain": [
       "0.591"
      ]
     },
     "execution_count": 9,
     "metadata": {},
     "output_type": "execute_result"
    }
   ],
   "source": [
    "sample = np.random.choice(P, n, replace=False)\n",
    "\n",
    "hat_theta = np.mean(sample)\n",
    "hat_theta"
   ]
  },
  {
   "cell_type": "markdown",
   "metadata": {
    "id": "6nF06ZAYWfh1"
   },
   "source": [
    "여러분이 위의 파이썬 코드를 여러 번 반복해서 실행해 보면 표본의 지지율이 다르게 나타나는 것을 알 수 있을 것이다. 당연히 추출할 때마다 다른 표본이 뽑히므로 추정량의 값도 변한다.\n",
    "\n",
    "하지만 여러분은 추출할 때마다 표본의 지지율이 모집단의 지지율에 크게 벗어나지 않는 것을 알 수 있다."
   ]
  },
  {
   "cell_type": "markdown",
   "metadata": {
    "id": "mKvln0eYXI2W"
   },
   "source": [
    "## 추정량의 평균\n",
    "\n",
    "자 이제 여러분들이 모집단에서 표본을 추출할 때 마다 추정량의 값이 다르게 주어진다는 것을 알았다.\n",
    "\n",
    "여러분이 위의 파이썬 코드를 1000번 반복해서 실행하면 1000개의 서로 다른 추정량의 값을 얻을 수 있다. 그럼 1000개의 서로 다른 추정량의 값, 즉 1000개의 추정값(estimate)들의 평균은 무었일까?\n",
    "\n",
    "추정량의 값을 추정값(estimate)라고 한다. 추정량은 임의성을 가지기 때문에 표본을 추출하기 전에는 그 값을 알 수 없다.  표본을 추출하면 관측한 데이터가 있으므로 추정량의 값을 구할 수 있다. 즉, 관측한 표본자료를 이용하여 계산한 추정량의 값이 추정값이다.\n",
    "\n",
    "앞 절에서 수행했던 모의실험으로 1000개의 추정값을 구하여 그 평균을 구해보자. \n",
    "\n",
    "1000 개의 추정값 $\\hat \\theta_1, \\hat \\theta_2, \\dots, \\hat \\theta_{1000}$ 이 있으므로 추정값들의 평균 $\\bar \\theta$ 은 다음과 같이 계산한다.\n",
    "\n",
    "$$ \\bar \\theta = \\frac{\\sum_{i=1}^{1000} \\hat \\theta_i}{1000} $$\n",
    "\n",
    "\n"
   ]
  },
  {
   "cell_type": "code",
   "execution_count": 10,
   "metadata": {
    "colab": {
     "base_uri": "https://localhost:8080/",
     "height": 414
    },
    "id": "18XJauOXWWgk",
    "outputId": "38775f1a-f579-4e6f-cd3d-cb1c1a604082"
   },
   "outputs": [
    {
     "data": {
      "text/html": [
       "<div>\n",
       "<style scoped>\n",
       "    .dataframe tbody tr th:only-of-type {\n",
       "        vertical-align: middle;\n",
       "    }\n",
       "\n",
       "    .dataframe tbody tr th {\n",
       "        vertical-align: top;\n",
       "    }\n",
       "\n",
       "    .dataframe thead th {\n",
       "        text-align: right;\n",
       "    }\n",
       "</style>\n",
       "<table border=\"1\" class=\"dataframe\">\n",
       "  <thead>\n",
       "    <tr style=\"text-align: right;\">\n",
       "      <th></th>\n",
       "      <th>표본지지율</th>\n",
       "    </tr>\n",
       "  </thead>\n",
       "  <tbody>\n",
       "    <tr>\n",
       "      <th>0</th>\n",
       "      <td>0.583</td>\n",
       "    </tr>\n",
       "    <tr>\n",
       "      <th>1</th>\n",
       "      <td>0.604</td>\n",
       "    </tr>\n",
       "    <tr>\n",
       "      <th>2</th>\n",
       "      <td>0.605</td>\n",
       "    </tr>\n",
       "    <tr>\n",
       "      <th>3</th>\n",
       "      <td>0.602</td>\n",
       "    </tr>\n",
       "    <tr>\n",
       "      <th>4</th>\n",
       "      <td>0.584</td>\n",
       "    </tr>\n",
       "    <tr>\n",
       "      <th>...</th>\n",
       "      <td>...</td>\n",
       "    </tr>\n",
       "    <tr>\n",
       "      <th>995</th>\n",
       "      <td>0.616</td>\n",
       "    </tr>\n",
       "    <tr>\n",
       "      <th>996</th>\n",
       "      <td>0.627</td>\n",
       "    </tr>\n",
       "    <tr>\n",
       "      <th>997</th>\n",
       "      <td>0.626</td>\n",
       "    </tr>\n",
       "    <tr>\n",
       "      <th>998</th>\n",
       "      <td>0.586</td>\n",
       "    </tr>\n",
       "    <tr>\n",
       "      <th>999</th>\n",
       "      <td>0.609</td>\n",
       "    </tr>\n",
       "  </tbody>\n",
       "</table>\n",
       "<p>1000 rows × 1 columns</p>\n",
       "</div>"
      ],
      "text/plain": [
       "     표본지지율\n",
       "0    0.583\n",
       "1    0.604\n",
       "2    0.605\n",
       "3    0.602\n",
       "4    0.584\n",
       "..     ...\n",
       "995  0.616\n",
       "996  0.627\n",
       "997  0.626\n",
       "998  0.586\n",
       "999  0.609\n",
       "\n",
       "[1000 rows x 1 columns]"
      ]
     },
     "execution_count": 10,
     "metadata": {},
     "output_type": "execute_result"
    }
   ],
   "source": [
    "B = 1000 # 모의실험의 횟수\n",
    "\n",
    "estimates = pd.DataFrame({'표본지지율':np.zeros(B)})\n",
    "\n",
    "for i in np.arange(B):\n",
    "  sample = np.random.choice(P, n, replace=False)\n",
    "  estimates.loc[i,'표본지지율'] = np.mean(sample)\n",
    "\n",
    "estimates "
   ]
  },
  {
   "cell_type": "code",
   "execution_count": 11,
   "metadata": {
    "colab": {
     "base_uri": "https://localhost:8080/"
    },
    "id": "lq8elF6KYzUF",
    "outputId": "9c6fc4ff-352f-48c3-ad41-e28238671649"
   },
   "outputs": [
    {
     "data": {
      "text/plain": [
       "표본지지율    0.599684\n",
       "dtype: float64"
      ]
     },
     "execution_count": 11,
     "metadata": {},
     "output_type": "execute_result"
    }
   ],
   "source": [
    "estimates.mean()"
   ]
  },
  {
   "cell_type": "markdown",
   "metadata": {
    "id": "HC4n6q6pY77z"
   },
   "source": [
    "모의실험으로 얻은 1000개 추정값들의 평균이 모집단의 지지율 0.6과 매우 유사한 것을 알 수 있다. \n",
    "\n",
    "\n",
    "$$ \\bar \\theta = \\frac{\\sum_{i=1}^{1000} \\hat \\theta_i}{1000}  \\approx \\theta $$\n",
    "\n",
    "\n",
    "\n",
    "이렇게 추정값들의 평균이 모수와 매우 가깝게 나오는 경우 편이(bias)가 매우 작다고 말한다.\n",
    "\n",
    "$$ Bias = \\theta - \\bar \\theta = \\text{모수} - \\text{추정값들의  평균} $$\n",
    "\n",
    "일반적으로 추정량의 편이가 작을수록 좋은 추정량이다.\n",
    "\n"
   ]
  },
  {
   "cell_type": "code",
   "execution_count": 12,
   "metadata": {
    "colab": {
     "base_uri": "https://localhost:8080/"
    },
    "id": "TB26Ama35pyu",
    "outputId": "30c9cfbd-3a8d-4d58-94ae-1aa1dbc5a667"
   },
   "outputs": [
    {
     "data": {
      "text/plain": [
       "표본지지율    0.000316\n",
       "dtype: float64"
      ]
     },
     "execution_count": 12,
     "metadata": {},
     "output_type": "execute_result"
    }
   ],
   "source": [
    "# 편이(bias)\n",
    "np.mean(P) - estimates.mean()"
   ]
  },
  {
   "cell_type": "markdown",
   "metadata": {
    "id": "UWgw9DobaAHV"
   },
   "source": [
    "## 추정량의 표준편차 \n",
    "\n",
    "1000 개의 추정값들이 있으니 표준편차(standard deviation; SD)도 구할 수 있다. \n",
    "\n",
    "만약 1000 개의 추정값 $\\hat \\theta_1, \\hat \\theta_2, \\dots, \\hat \\theta_{1000}$ 이 있다면 추정값들의 표준편차 SD 는 다음과 같다.\n",
    "\n",
    "$$ SD = SD(\\hat \\theta) = \\sqrt{ \\frac{1}{1000-1} \\sum_{i=1}^{1000} (\\hat \\theta_i - \\bar \\theta)^2} $$\n",
    "\n",
    "표준편차를 구할 때  $n-1=1000-1=999$ 로 나눈다. 제곱합을 1000으로 나누는 경우도 있는데 두 경우 모두 표준편차라고 부르며 그 차이는 표본의 수 $n$이 크면 큰 차이가 없다.  \n",
    "\n",
    "이제 1000 개의 추정값들이 있으니 표준편차는 다늠과 같이 `std()` 메소드로 구할 수 있다."
   ]
  },
  {
   "cell_type": "code",
   "execution_count": 13,
   "metadata": {
    "colab": {
     "base_uri": "https://localhost:8080/"
    },
    "id": "EnD_Oc2UY5EC",
    "outputId": "ba5ccc72-17a5-45db-900d-95451447e99a"
   },
   "outputs": [
    {
     "data": {
      "text/plain": [
       "표본지지율    0.015494\n",
       "dtype: float64"
      ]
     },
     "execution_count": 13,
     "metadata": {},
     "output_type": "execute_result"
    }
   ],
   "source": [
    "estimates.std()"
   ]
  },
  {
   "cell_type": "markdown",
   "metadata": {
    "id": "yfGF8McTei9I"
   },
   "source": [
    "이제 새로운 표본을 반복하여 추출하면서 지지율의 추정값들의 평균과 표준편차가 어떻게 변하는지 알아보자.\n",
    "\n",
    "여러분은 추정값들의 평균과 표준편차가 변하지만 크게 변하지 않는 것을 알 수 있을 것이다."
   ]
  },
  {
   "cell_type": "code",
   "execution_count": 14,
   "metadata": {
    "colab": {
     "base_uri": "https://localhost:8080/"
    },
    "id": "9a66oNlZeO6F",
    "outputId": "80d3e01b-a10f-4735-d900-f7c9b2fe166f"
   },
   "outputs": [
    {
     "data": {
      "text/plain": [
       "[표본지지율    0.599917\n",
       " dtype: float64,\n",
       " 표본지지율    0.015399\n",
       " dtype: float64]"
      ]
     },
     "execution_count": 14,
     "metadata": {},
     "output_type": "execute_result"
    }
   ],
   "source": [
    "B = 1000 # 모의실험의 횟수\n",
    "n = 1000 # 표본의 수\n",
    "\n",
    "estimates = pd.DataFrame({'표본지지율':np.zeros(B)})\n",
    "\n",
    "for i in np.arange(B):\n",
    "  sample = np.random.choice(P, n, replace=False)\n",
    "  estimates.loc[i,'표본지지율'] = np.mean(sample)\n",
    "\n",
    "[estimates.mean(),  estimates.std()]"
   ]
  },
  {
   "cell_type": "markdown",
   "metadata": {
    "id": "eTnjDMHSfwAx"
   },
   "source": [
    "## 추정량의 분포 \n",
    "\n",
    "더 나아가 1000개의 추정값들의 분포를 히스토그램으로 그려보자. \n",
    "\n",
    "아래 코드를 반복하면서 실행해보면 1000개의 추정값들의 분포는 어떻게 변하는가? 분포의 모양은 어떻게 나타나는가?\n",
    "\n",
    "여러번 반복해보면 1000개의 추정값들의 분포는 모집단의 지지율 0.6을 중심으로 종모양의 분포를 보이는 것을 알 수 있다."
   ]
  },
  {
   "cell_type": "code",
   "execution_count": 15,
   "metadata": {
    "colab": {
     "base_uri": "https://localhost:8080/",
     "height": 500
    },
    "id": "re3S74YyfJns",
    "outputId": "49e16c5d-0bf1-41da-95ea-db6979c5f27c"
   },
   "outputs": [
    {
     "data": {
      "text/plain": [
       "<AxesSubplot:ylabel='Frequency'>"
      ]
     },
     "execution_count": 15,
     "metadata": {},
     "output_type": "execute_result"
    },
    {
     "data": {
      "image/png": "[encoded data removed]",
      "text/plain": [
       "<Figure size 576x576 with 1 Axes>"
      ]
     },
     "metadata": {
      "needs_background": "light"
     },
     "output_type": "display_data"
    }
   ],
   "source": [
    "B = 1000 # 모의실험의 횟수\n",
    "n = 1000 # 표본의 수\n",
    "\n",
    "estimates = pd.DataFrame({'표본지지율':np.zeros(B)})\n",
    "\n",
    "for i in np.arange(B):\n",
    "  sample = np.random.choice(P, n, replace=False)\n",
    "  estimates.loc[i,'표본지지율'] = np.mean(sample)\n",
    "\n",
    "estimates.plot.hist()"
   ]
  },
  {
   "cell_type": "markdown",
   "metadata": {
    "id": "zgLZcshTje_e"
   },
   "source": [
    "## 정규분포 근사\n",
    "\n",
    "\n",
    "앞 절에서 잠시 언급한것과 같이 위에서 본 1000개의 추정값들의 분포는 정규분포와 매우 유사하다. 통계학에서 가장 중요한 정리인 중심극한정리(Central Limit Theorem)은 표본의 수가 크면 추정량의 분포가 정규분포에 매우 가깝게 나타난다는 것을 알려준다. \n",
    "\n",
    "\n",
    "그럼 표본의 수가 얼마나 커야하나? **일반적으로 표본의 수가 50보다 크면 추정량의 분포가 정규분포에 꽤 가깝다고 말할 수 있다.**\n",
    "\n",
    "위의 예제에서 고려한 표본의 개수가 1000개인 경우 추정량의 분포는 정규분포와 매우 유사하다.\n",
    "\n",
    "우리는 확룰과 분포를 배울 때 정규분포의 다음과 같은 성질을 배웠다. \n",
    "\n",
    "- 추정량의 분포가 정규분포를 따른다면 평균으로부터 2*SD 안에서 추정량의 값이 나타날 확률은 95%이다.\n",
    "\n",
    "자,  이제 위에서 구한 추정량의 표준편차에 2를 곱해보자.\n",
    "\n",
    "$$ 2SD = 2\\sqrt{ \\frac{1}{1000-1} \\sum_{i=1}^{1000} (\\hat \\theta_i - \\bar \\theta)^2} $$\n",
    "\n",
    "\n"
   ]
  },
  {
   "cell_type": "code",
   "execution_count": 16,
   "metadata": {
    "colab": {
     "base_uri": "https://localhost:8080/"
    },
    "id": "MV-WfN49gFrn",
    "outputId": "a9e89e5a-f84a-426b-e9d8-787b5580e2a1"
   },
   "outputs": [
    {
     "data": {
      "text/plain": [
       "표본지지율    0.029731\n",
       "dtype: float64"
      ]
     },
     "execution_count": 16,
     "metadata": {},
     "output_type": "execute_result"
    }
   ],
   "source": [
    "B = 1000 # 모의실험의 횟수\n",
    "n = 1000 # 표본의 수\n",
    "\n",
    "estimates = pd.DataFrame({'표본지지율':np.zeros(B)})\n",
    "\n",
    "for i in np.arange(B):\n",
    "  sample = np.random.choice(P, n, replace=False)\n",
    "  estimates.loc[i,'표본지지율'] = np.mean(sample)\n",
    "\n",
    "2*estimates.std()"
   ]
  },
  {
   "cell_type": "markdown",
   "metadata": {
    "id": "6y_3sRPxmC_e"
   },
   "source": [
    "여러분이 위의 코드를 몇 번 반복해보면 추정값들의 표준편차에 2를 곱한 값(2*SD)이 0.03 과 매우 유사하게 나타나는 것을 알 수 있다.\n",
    "\n",
    "이 0.03 과 95% 는 어디에서 많이 본 숫자이다. \n",
    "\n",
    "여러분이 네이버나 구글에 지지율 조사라고 검색한 후 뉴스를 보면 보통 1000명을 표본으로 하는 것을 알 수 있으면 다음과 같은 문구가 반드시 기사의 마지막에 나타나있는 것을 알 수 있다.  \n",
    "\n",
    "-  표본오차는 95% 신뢰수준에서 ±3.1%포인트다.\n",
    "\n",
    "위의 문구는 다음과 같은 의미를 가진다.\n",
    "\n",
    "1. 표본 지지율(추정량)의 분포가 정규분포에 가깝다.\n",
    "\n",
    "$$ \\hat \\theta  \\sim N(\\theta, SD^2) $$\n",
    "\n",
    "2. 따라서 표본 지지율과 모집단의 지지율의 차이가 2*SD 이내 일 확률, 즉 신뢰수준은 근사적으로 95%이다.\n",
    "\n",
    "\n",
    "\n",
    "$$ P( \\theta - 2SD \\le \\hat \\theta \\le \\theta+ 2SD) \\approx 0.95 $$\n",
    "\n",
    "신문 기사에서 **표본오차(sampling error)** 라고 부르는 값은 표본 지지율, 즉 추정량의 표준편차 SD 에 2를 곱한 값이다.\n",
    "\n",
    "왜 우리는 이렇게 표본오차와 신뢰수준 등을 이용하여 추정량의 정확성을 나타내는가? 그 이유를 요약하면 다음과 같이 설명할 수 있다.\n",
    "\n",
    "- 확률표본을 추출하여 표본 지지율을 계산했을 때 얻은 값이 실제 모집단의 지지율과 얼마나 차이가 나는지는 알 수 없다.\n",
    "- 표본이 모집단의 일부분이며 확률표본이 가진 임의성 때문에 나타날 수 있는 오차(error), 즉 표본오차를 추정량의 분포를 이용하여 제시한다.  \n",
    "- 표본 지지율, 즉 추정량의 분포가 정규분포에 가깝다는 사실을 이용하여 추정량이 95%의 확률로 집중되어 나타나는 구간을 제시할 수 있다. \n",
    "- 이 구간이 바로 모집단의 지지율을 중심에서 좌우 2*SD 값만큼 벌이진 구간이다.  \n",
    "- 이때 사용하는 확률 95%를 신뢰수준이라고 부르며 2*SD 값을 표본오차라고 부른다.\n",
    "\n",
    "\n"
   ]
  },
  {
   "cell_type": "markdown",
   "metadata": {
    "id": "76Qt8BaP_-3I"
   },
   "source": [
    "### 실제 조사의 경우\n",
    "\n",
    "실제로 우리는 모집단의 지지율을 모른다. 따라서 위와 같은 모의실험으로 추정량의 표준편차 SD를 구하는 것도 불가능하다.  신문기사에 나오는 실제 조사에서는 모집단의 지지율이 50% 일 경우를 가정하고 SD를 구한다. 이 경우 2*SD 는 다음과 같이 이론적으로 계산할 수 있다. \n",
    "\n",
    "\n",
    "$$ 2SD = 2 \\sqrt{ \\frac{(0.5)(1-0.5)}{n}} = \\frac{1}{\\sqrt{n}} $$\n",
    "\n",
    "표본의 크기가 $n=1000$ 이면 2*SD가 이론적으로 0.031, 즉 3.1%포인트로 주어진다.\n"
   ]
  },
  {
   "cell_type": "code",
   "execution_count": 17,
   "metadata": {
    "colab": {
     "base_uri": "https://localhost:8080/"
    },
    "id": "pi38BAYZAP9R",
    "outputId": "bdd5b813-11e4-4480-a48d-7309793cff1c"
   },
   "outputs": [
    {
     "data": {
      "text/plain": [
       "0.03162277660168379"
      ]
     },
     "execution_count": 17,
     "metadata": {},
     "output_type": "execute_result"
    }
   ],
   "source": [
    "1/np.sqrt(1000)"
   ]
  },
  {
   "cell_type": "markdown",
   "metadata": {
    "id": "g3u43KazpHEL"
   },
   "source": [
    "## 모의실험\n",
    "\n",
    "이제 모집단의 크기, 모수(지지율) 등은 바꾸어 가면서 표본 지지율의 평균, 표준편차(SD), 표본오차(2SD) 를 구해보자. 또한 표본의 지지율이 나타나는 확률이 95%인 구간을 히스토그램으로 나타내 보자.\n",
    "\n",
    "특히 다음과 같은 경우에 대하여 모의실험을 해보자.\n",
    "- 모집단의 지지율이 50%인 경우\n",
    "- 모집단의 지지율이 아주 작은 1% 인 경우\n",
    "- 표본의 크기가 아주 작은 경우, 예를 들어 $n=10$ 인 경우\n",
    "\n",
    "**주의**: 모집단의 수를 너무 크게 하면 실행 시간이 너무 오래 걸리니 주의하자."
   ]
  },
  {
   "cell_type": "code",
   "execution_count": 18,
   "metadata": {
    "colab": {
     "base_uri": "https://localhost:8080/",
     "height": 78
    },
    "id": "7ckLBY3LlyP5",
    "outputId": "96c10137-0fb7-4673-e1d3-00035d53550a"
   },
   "outputs": [
    {
     "data": {
      "text/html": [
       "<div>\n",
       "<style scoped>\n",
       "    .dataframe tbody tr th:only-of-type {\n",
       "        vertical-align: middle;\n",
       "    }\n",
       "\n",
       "    .dataframe tbody tr th {\n",
       "        vertical-align: top;\n",
       "    }\n",
       "\n",
       "    .dataframe thead th {\n",
       "        text-align: right;\n",
       "    }\n",
       "</style>\n",
       "<table border=\"1\" class=\"dataframe\">\n",
       "  <thead>\n",
       "    <tr style=\"text-align: right;\">\n",
       "      <th></th>\n",
       "      <th>지지율평균</th>\n",
       "      <th>SD</th>\n",
       "      <th>표본오차</th>\n",
       "    </tr>\n",
       "  </thead>\n",
       "  <tbody>\n",
       "    <tr>\n",
       "      <th>0</th>\n",
       "      <td>0.500465</td>\n",
       "      <td>0.015654</td>\n",
       "      <td>0.031307</td>\n",
       "    </tr>\n",
       "  </tbody>\n",
       "</table>\n",
       "</div>"
      ],
      "text/plain": [
       "      지지율평균        SD      표본오차\n",
       "0  0.500465  0.015654  0.031307"
      ]
     },
     "execution_count": 18,
     "metadata": {},
     "output_type": "execute_result"
    }
   ],
   "source": [
    "# 모집단의 수\n",
    "N = 100000\n",
    "\n",
    "# 모집단의 지지율\n",
    "theta = 0.5\n",
    "\n",
    "# 지지하는 유권자의 수 \n",
    "favor = int(N*theta)\n",
    "\n",
    "# 반대하는 유권자의 수 \n",
    "opposite = N-favor\n",
    "\n",
    "# 모집단 (1=지지, 0=반대)\n",
    "P = np.concatenate((np.ones(favor), np.zeros(opposite)), axis=0)\n",
    "\n",
    "# 모의실험의 횟수\n",
    "B = 1000 \n",
    "\n",
    "# 표본의 수\n",
    "n = 1000 \n",
    "\n",
    "# 모의실험 - 표본의 추출을 B번 반복하여 B개의 지지율(추정량)을 구한다.\n",
    "estimates = pd.DataFrame({'표본지지율':np.zeros(B)})\n",
    "\n",
    "for i in np.arange(B):\n",
    "  sample = np.random.choice(P, n, replace=False)\n",
    "  estimates.loc[i,'표본지지율'] = np.mean(sample)\n",
    "\n",
    "# B개의 지지율의 평균  \n",
    "AVG=  float(estimates.mean())\n",
    "\n",
    "# B개의 지지율의 표준편차\n",
    "SD = float(estimates.std())\n",
    "\n",
    "# 표본 지지율의 평균, 표준편차(SD), 표본오차(2SD)\n",
    "sim_summary = pd.DataFrame({ '지지율평균': [AVG], 'SD' : [SD], '표본오차' : [2*SD] })\n",
    "\n",
    "sim_summary\n"
   ]
  },
  {
   "cell_type": "code",
   "execution_count": 19,
   "metadata": {
    "colab": {
     "base_uri": "https://localhost:8080/"
    },
    "id": "q-3JxJPj19aX",
    "outputId": "69abb7fa-509d-4ed2-8ea0-92e4edf85700"
   },
   "outputs": [
    {
     "data": {
      "text/plain": [
       "0.5"
      ]
     },
     "execution_count": 19,
     "metadata": {},
     "output_type": "execute_result"
    }
   ],
   "source": [
    "# 모집단의 지지율\n",
    "theta"
   ]
  },
  {
   "cell_type": "code",
   "execution_count": 20,
   "metadata": {
    "colab": {
     "base_uri": "https://localhost:8080/"
    },
    "id": "W57juDLjznIq",
    "outputId": "c67a4dbb-5b9e-4998-ea8e-b4748c9e541a"
   },
   "outputs": [
    {
     "data": {
      "text/plain": [
       "[0.4691577605298198, 0.5317722394701813]"
      ]
     },
     "execution_count": 20,
     "metadata": {},
     "output_type": "execute_result"
    }
   ],
   "source": [
    "# 95% 신뢰 수준의 구간\n",
    "[AVG - 2* SD, AVG + 2*SD ]"
   ]
  },
  {
   "cell_type": "code",
   "execution_count": 21,
   "metadata": {
    "colab": {
     "base_uri": "https://localhost:8080/",
     "height": 483
    },
    "id": "eq_7HMzqs-V4",
    "outputId": "fc7a4320-95d8-46e1-f336-7fe0e947fffb"
   },
   "outputs": [
    {
     "data": {
      "image/png": "[encoded data removed]",
      "text/plain": [
       "<Figure size 576x576 with 1 Axes>"
      ]
     },
     "metadata": {
      "needs_background": "light"
     },
     "output_type": "display_data"
    }
   ],
   "source": [
    "# 히스토그램\n",
    "p= estimates.plot.hist( density=True)\n",
    "\n",
    "# 모집단의 지지율에서 2SD 만큼 벌어진 구간(95%)은 빨간색으로 \n",
    "for rectangle in p.patches:\n",
    "    if rectangle.get_x() >=  (AVG - 2*SD) and rectangle.get_x() <=  (AVG + 2*SD) :\n",
    "        rectangle.set_facecolor('red')"
   ]
  },
  {
   "cell_type": "code",
   "execution_count": 21,
   "metadata": {
    "id": "9wY3HSJ08q6G"
   },
   "outputs": [],
   "source": []
  },
  {
   "cell_type": "markdown",
   "metadata": {
    "id": "Svx77lzH8rRz"
   },
   "source": [
    "## 요약\n",
    "\n",
    "데이터과학에서 확률표본을 이용한 추정에 대한 요약입니다. \n",
    "\n",
    "- 모집단과 표본 \n",
    "  - 모집단은 관심이 있는 전체 집단이다.\n",
    "  - 모수는 모집단의 특성값이다.\n",
    "  - 확률표본은 모집단의 구성원이 표본에 속할 확률을 미리 알고 있으며 그 확률에 따라서 추출한 표본이다.\n",
    "  - 표본 자료의 분포는 모집단의 분포와 유사하게 나타난다.\n",
    "\n",
    "- 추정량의 분포 \n",
    "  - 추출된 표본으로 부터 얻은 추정량의 값이 모수와 얼마나 차이가 나는지는 알 수가 없다.    \n",
    "  - 하지만 표본의 크기가 커질수록 추정량의 값은 모수에 가깝게 나타날 가능성이 높아진다.\n",
    "  - 또한 표본의 크기가 크면 추정량의 분포는 정규분포와 매우 유사하다.\n",
    "  - 따라서 추정량의 분포에 대한 성질을 정규분포의 성질을 이용하여 말할 수 있다.\n",
    "  - 추정량의 표준편차를 SD 라고 하면 추정량의 값과 모수의 차이가 2*SD 이내일 확률은 약 95% 이라고 말할 수 있다. \n",
    "\n",
    "마지막으로 강조하고 싶은 점은 편의표본이나 비확률표본을 사용한 경우, 추정한 값의 정확성에 대하여 말할 때 위와 같은 논리를 사용할 수 없다.   \n"
   ]
  },
  {
   "cell_type": "code",
   "execution_count": 21,
   "metadata": {
    "id": "IjvyA0bhvbw_"
   },
   "outputs": [],
   "source": []
  }
 ],
 "metadata": {
  "colab": {
   "collapsed_sections": [],
   "name": "estimator.ipynb",
   "provenance": []
  },
  "kernelspec": {
   "display_name": "Python 3",
   "name": "python3"
  },
  "language_info": {
   "codemirror_mode": {
    "name": "ipython",
    "version": 3
   },
   "file_extension": ".py",
   "mimetype": "text/x-python",
   "name": "python",
   "nbconvert_exporter": "python",
   "pygments_lexer": "ipython3",
   "version": "3.9.12"
  }
 },
 "nbformat": 4,
 "nbformat_minor": 0
}